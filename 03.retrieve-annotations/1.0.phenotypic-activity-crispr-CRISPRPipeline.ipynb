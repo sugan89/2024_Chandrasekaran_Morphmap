{
 "cells": [
  {
   "cell_type": "code",
   "execution_count": 52,
   "metadata": {},
   "outputs": [],
   "source": [
    "import pandas as pd\n",
    "import utils\n",
    "import numpy as np\n",
    "import warnings\n",
    "from tqdm import tqdm\n",
    "from copairs.map import average_precision, mean_average_precision\n",
    "import logging\n",
    "\n",
    "logging.basicConfig(format=\"%(levelname)s:%(asctime)s:%(name)s:%(message)s\")\n",
    "logging.getLogger(\"copairs\").setLevel(logging.INFO)\n",
    "\n",
    "warnings.simplefilter(action=\"ignore\", category=FutureWarning)"
   ]
  },
  {
   "cell_type": "code",
   "execution_count": 53,
   "metadata": {},
   "outputs": [],
   "source": [
    "#operations = \"wellpos_cc_var_mad_outlier_featselect_sphering_harmony_PCA_corrected\"\n",
    "batch_size = 20000\n",
    "null_size = 20000\n",
    "fdr = 0.1"
   ]
  },
  {
   "cell_type": "code",
   "execution_count": 3,
   "metadata": {},
   "outputs": [],
   "source": [
    "# CRISPR controls - did not use this since the profies already has pert_type in it\n",
    "\n",
    "#crispr_controls_df = pd.DataFrame(\n",
    "#    {\n",
    "#        \"Metadata_JCP2022\": [\"JCP2022_805264\", \"JCP2022_800001\", \"JCP2022_800002\"],\n",
    "#        \"Metadata_pert_type\": [\"poscon\", \"negcon\", \"negcon\"],\n",
    "##\n",
    "#    index=[0, 1, 2],\n",
    "#)"
   ]
  },
  {
   "attachments": {},
   "cell_type": "markdown",
   "metadata": {},
   "source": [
    "### Prepare the data"
   ]
  },
  {
   "cell_type": "markdown",
   "metadata": {},
   "source": [
    "#### Filtering the CRISPR plates from the output file"
   ]
  },
  {
   "cell_type": "code",
   "execution_count": 54,
   "metadata": {},
   "outputs": [],
   "source": [
    "raw_CRISPR_df = pd.read_parquet('C:\\\\Users\\\\ssivagur\\\\Documents\\\\GitHub\\\\ssivagur\\\\FeatureSpaceIntegration\\\\CRISPRPipelineValidation\\\\profiles_wellpos_cc_var_mad_outlier_featselect_sphering_harmony_PCA_corrected.parquet')"
   ]
  },
  {
   "cell_type": "code",
   "execution_count": 55,
   "metadata": {},
   "outputs": [
    {
     "data": {
      "text/plain": [
       "(946431, 259)"
      ]
     },
     "execution_count": 55,
     "metadata": {},
     "output_type": "execute_result"
    }
   ],
   "source": [
    "raw_CRISPR_df.shape"
   ]
  },
  {
   "cell_type": "code",
   "execution_count": 70,
   "metadata": {},
   "outputs": [],
   "source": [
    "#filtering \n",
    "crispr_df = raw_CRISPR_df[raw_CRISPR_df['Metadata_PlateType'] == 'CRISPR']"
   ]
  },
  {
   "cell_type": "markdown",
   "metadata": {},
   "source": [
    "There are two columns of metadata for 'Metadata_Symbol' in the raw_orf_df - 'Metadata_Symbol_x' and 'Metadata_Symbol_y'. I have to check why there are two columns "
   ]
  },
  {
   "cell_type": "code",
   "execution_count": 71,
   "metadata": {},
   "outputs": [
    {
     "data": {
      "text/plain": [
       "(56821, 259)"
      ]
     },
     "execution_count": 71,
     "metadata": {},
     "output_type": "execute_result"
    }
   ],
   "source": [
    "crispr_df.shape"
   ]
  },
  {
   "cell_type": "code",
   "execution_count": 72,
   "metadata": {},
   "outputs": [],
   "source": [
    "crispr_df_cols = [c for c in crispr_df.columns if c.startswith(\"Metadata_\")]"
   ]
  },
  {
   "cell_type": "code",
   "execution_count": 73,
   "metadata": {},
   "outputs": [
    {
     "data": {
      "text/plain": [
       "['Metadata_Source',\n",
       " 'Metadata_Plate',\n",
       " 'Metadata_Well',\n",
       " 'Metadata_JCP2022',\n",
       " 'Metadata_broad_sample',\n",
       " 'Metadata_Name',\n",
       " 'Metadata_Vector',\n",
       " 'Metadata_Transcript',\n",
       " 'Metadata_Symbol_x',\n",
       " 'Metadata_NCBI_Gene_ID_x',\n",
       " 'Metadata_Taxon_ID',\n",
       " 'Metadata_Gene_Description',\n",
       " 'Metadata_Prot_Match',\n",
       " 'Metadata_Insert_Length',\n",
       " 'Metadata_pert_type',\n",
       " 'Metadata_NCBI_Gene_ID_y',\n",
       " 'Metadata_Symbol_y',\n",
       " 'Metadata_Batch',\n",
       " 'Metadata_PlateType',\n",
       " 'Metadata_Row',\n",
       " 'Metadata_Column',\n",
       " 'Metadata_Microscope',\n",
       " 'Metadata_Symbol',\n",
       " 'Metadata_Approved_symbol',\n",
       " 'Metadata_Locus',\n",
       " 'Metadata_Chromosome',\n",
       " 'Metadata_arm']"
      ]
     },
     "execution_count": 73,
     "metadata": {},
     "output_type": "execute_result"
    }
   ],
   "source": [
    "crispr_df_cols"
   ]
  },
  {
   "cell_type": "code",
   "execution_count": 74,
   "metadata": {},
   "outputs": [
    {
     "data": {
      "text/plain": [
       "889610    NaN\n",
       "889611    NaN\n",
       "889612    NaN\n",
       "889613    NaN\n",
       "889614    NaN\n",
       "         ... \n",
       "946426    NaN\n",
       "946427    NaN\n",
       "946428    NaN\n",
       "946429    NaN\n",
       "946430    NaN\n",
       "Name: Metadata_NCBI_Gene_ID_x, Length: 56821, dtype: category\n",
       "Categories (12602, object): ['1', '10', '100', '10000', ..., 'XLOC_l2_015578', 'XLOC_l2_015600', 'XLOC_l2_015937', 'eGFP']"
      ]
     },
     "execution_count": 74,
     "metadata": {},
     "output_type": "execute_result"
    }
   ],
   "source": [
    "crispr_df['Metadata_NCBI_Gene_ID_x']"
   ]
  },
  {
   "cell_type": "code",
   "execution_count": 75,
   "metadata": {},
   "outputs": [
    {
     "data": {
      "text/plain": [
       "True"
      ]
     },
     "execution_count": 75,
     "metadata": {},
     "output_type": "execute_result"
    }
   ],
   "source": [
    "crispr_df['Metadata_NCBI_Gene_ID_x'].isnull().all()"
   ]
  },
  {
   "cell_type": "code",
   "execution_count": 76,
   "metadata": {},
   "outputs": [
    {
     "data": {
      "text/plain": [
       "False"
      ]
     },
     "execution_count": 76,
     "metadata": {},
     "output_type": "execute_result"
    }
   ],
   "source": [
    "crispr_df['Metadata_Symbol'].isnull().all()"
   ]
  },
  {
   "cell_type": "code",
   "execution_count": 77,
   "metadata": {},
   "outputs": [
    {
     "data": {
      "text/plain": [
       "True"
      ]
     },
     "execution_count": 77,
     "metadata": {},
     "output_type": "execute_result"
    }
   ],
   "source": [
    "crispr_df['Metadata_Symbol_x'].isnull().all()\n"
   ]
  },
  {
   "cell_type": "code",
   "execution_count": 78,
   "metadata": {},
   "outputs": [
    {
     "data": {
      "text/plain": [
       "False"
      ]
     },
     "execution_count": 78,
     "metadata": {},
     "output_type": "execute_result"
    }
   ],
   "source": [
    "crispr_df['Metadata_Symbol_y'].isnull().all()\n"
   ]
  },
  {
   "cell_type": "code",
   "execution_count": 80,
   "metadata": {},
   "outputs": [
    {
     "data": {
      "text/plain": [
       "56821"
      ]
     },
     "execution_count": 80,
     "metadata": {},
     "output_type": "execute_result"
    }
   ],
   "source": [
    "len(crispr_df['Metadata_Symbol_y'].notna())"
   ]
  },
  {
   "cell_type": "code",
   "execution_count": 81,
   "metadata": {},
   "outputs": [
    {
     "data": {
      "text/plain": [
       "56821"
      ]
     },
     "execution_count": 81,
     "metadata": {},
     "output_type": "execute_result"
    }
   ],
   "source": [
    "len(crispr_df['Metadata_Symbol'].notna())"
   ]
  },
  {
   "cell_type": "code",
   "execution_count": 85,
   "metadata": {},
   "outputs": [],
   "source": [
    "non_na_with_locs = crispr_df.where(crispr_df['Metadata_Symbol'].notna())"
   ]
  },
  {
   "cell_type": "code",
   "execution_count": 86,
   "metadata": {},
   "outputs": [
    {
     "data": {
      "text/html": [
       "<div>\n",
       "<style scoped>\n",
       "    .dataframe tbody tr th:only-of-type {\n",
       "        vertical-align: middle;\n",
       "    }\n",
       "\n",
       "    .dataframe tbody tr th {\n",
       "        vertical-align: top;\n",
       "    }\n",
       "\n",
       "    .dataframe thead th {\n",
       "        text-align: right;\n",
       "    }\n",
       "</style>\n",
       "<table border=\"1\" class=\"dataframe\">\n",
       "  <thead>\n",
       "    <tr style=\"text-align: right;\">\n",
       "      <th></th>\n",
       "      <th>Metadata_Source</th>\n",
       "      <th>Metadata_Plate</th>\n",
       "      <th>Metadata_Well</th>\n",
       "      <th>Metadata_JCP2022</th>\n",
       "      <th>Metadata_broad_sample</th>\n",
       "      <th>Metadata_Name</th>\n",
       "      <th>Metadata_Vector</th>\n",
       "      <th>Metadata_Transcript</th>\n",
       "      <th>Metadata_Symbol_x</th>\n",
       "      <th>Metadata_NCBI_Gene_ID_x</th>\n",
       "      <th>...</th>\n",
       "      <th>227</th>\n",
       "      <th>228</th>\n",
       "      <th>229</th>\n",
       "      <th>230</th>\n",
       "      <th>231</th>\n",
       "      <th>Metadata_Symbol</th>\n",
       "      <th>Metadata_Approved_symbol</th>\n",
       "      <th>Metadata_Locus</th>\n",
       "      <th>Metadata_Chromosome</th>\n",
       "      <th>Metadata_arm</th>\n",
       "    </tr>\n",
       "  </thead>\n",
       "  <tbody>\n",
       "    <tr>\n",
       "      <th>889610</th>\n",
       "      <td>NaN</td>\n",
       "      <td>NaN</td>\n",
       "      <td>NaN</td>\n",
       "      <td>NaN</td>\n",
       "      <td>NaN</td>\n",
       "      <td>NaN</td>\n",
       "      <td>NaN</td>\n",
       "      <td>NaN</td>\n",
       "      <td>NaN</td>\n",
       "      <td>NaN</td>\n",
       "      <td>...</td>\n",
       "      <td>NaN</td>\n",
       "      <td>NaN</td>\n",
       "      <td>NaN</td>\n",
       "      <td>NaN</td>\n",
       "      <td>NaN</td>\n",
       "      <td>NaN</td>\n",
       "      <td>NaN</td>\n",
       "      <td>NaN</td>\n",
       "      <td>NaN</td>\n",
       "      <td>NaN</td>\n",
       "    </tr>\n",
       "    <tr>\n",
       "      <th>889611</th>\n",
       "      <td>NaN</td>\n",
       "      <td>NaN</td>\n",
       "      <td>NaN</td>\n",
       "      <td>NaN</td>\n",
       "      <td>NaN</td>\n",
       "      <td>NaN</td>\n",
       "      <td>NaN</td>\n",
       "      <td>NaN</td>\n",
       "      <td>NaN</td>\n",
       "      <td>NaN</td>\n",
       "      <td>...</td>\n",
       "      <td>NaN</td>\n",
       "      <td>NaN</td>\n",
       "      <td>NaN</td>\n",
       "      <td>NaN</td>\n",
       "      <td>NaN</td>\n",
       "      <td>NaN</td>\n",
       "      <td>NaN</td>\n",
       "      <td>NaN</td>\n",
       "      <td>NaN</td>\n",
       "      <td>NaN</td>\n",
       "    </tr>\n",
       "    <tr>\n",
       "      <th>889612</th>\n",
       "      <td>NaN</td>\n",
       "      <td>NaN</td>\n",
       "      <td>NaN</td>\n",
       "      <td>NaN</td>\n",
       "      <td>NaN</td>\n",
       "      <td>NaN</td>\n",
       "      <td>NaN</td>\n",
       "      <td>NaN</td>\n",
       "      <td>NaN</td>\n",
       "      <td>NaN</td>\n",
       "      <td>...</td>\n",
       "      <td>NaN</td>\n",
       "      <td>NaN</td>\n",
       "      <td>NaN</td>\n",
       "      <td>NaN</td>\n",
       "      <td>NaN</td>\n",
       "      <td>NaN</td>\n",
       "      <td>NaN</td>\n",
       "      <td>NaN</td>\n",
       "      <td>NaN</td>\n",
       "      <td>NaN</td>\n",
       "    </tr>\n",
       "    <tr>\n",
       "      <th>889613</th>\n",
       "      <td>source_13</td>\n",
       "      <td>CP-CC9-R1-01</td>\n",
       "      <td>E06</td>\n",
       "      <td>JCP2022_806962</td>\n",
       "      <td>NaN</td>\n",
       "      <td>NaN</td>\n",
       "      <td>NaN</td>\n",
       "      <td>NaN</td>\n",
       "      <td>NaN</td>\n",
       "      <td>NaN</td>\n",
       "      <td>...</td>\n",
       "      <td>-0.058746</td>\n",
       "      <td>0.159143</td>\n",
       "      <td>-0.055322</td>\n",
       "      <td>0.398936</td>\n",
       "      <td>-0.079594</td>\n",
       "      <td>TAZ</td>\n",
       "      <td>None</td>\n",
       "      <td>None</td>\n",
       "      <td>None</td>\n",
       "      <td>None</td>\n",
       "    </tr>\n",
       "    <tr>\n",
       "      <th>889614</th>\n",
       "      <td>source_13</td>\n",
       "      <td>CP-CC9-R1-01</td>\n",
       "      <td>F23</td>\n",
       "      <td>JCP2022_800002</td>\n",
       "      <td>NaN</td>\n",
       "      <td>NaN</td>\n",
       "      <td>NaN</td>\n",
       "      <td>NaN</td>\n",
       "      <td>NaN</td>\n",
       "      <td>NaN</td>\n",
       "      <td>...</td>\n",
       "      <td>0.039345</td>\n",
       "      <td>-0.157173</td>\n",
       "      <td>0.020388</td>\n",
       "      <td>0.011505</td>\n",
       "      <td>0.181091</td>\n",
       "      <td>non-targeting</td>\n",
       "      <td>None</td>\n",
       "      <td>None</td>\n",
       "      <td>None</td>\n",
       "      <td>None</td>\n",
       "    </tr>\n",
       "    <tr>\n",
       "      <th>...</th>\n",
       "      <td>...</td>\n",
       "      <td>...</td>\n",
       "      <td>...</td>\n",
       "      <td>...</td>\n",
       "      <td>...</td>\n",
       "      <td>...</td>\n",
       "      <td>...</td>\n",
       "      <td>...</td>\n",
       "      <td>...</td>\n",
       "      <td>...</td>\n",
       "      <td>...</td>\n",
       "      <td>...</td>\n",
       "      <td>...</td>\n",
       "      <td>...</td>\n",
       "      <td>...</td>\n",
       "      <td>...</td>\n",
       "      <td>...</td>\n",
       "      <td>...</td>\n",
       "      <td>...</td>\n",
       "      <td>...</td>\n",
       "      <td>...</td>\n",
       "    </tr>\n",
       "    <tr>\n",
       "      <th>946426</th>\n",
       "      <td>source_13</td>\n",
       "      <td>CP-CC9-R8-02</td>\n",
       "      <td>F07</td>\n",
       "      <td>JCP2022_805270</td>\n",
       "      <td>NaN</td>\n",
       "      <td>NaN</td>\n",
       "      <td>NaN</td>\n",
       "      <td>NaN</td>\n",
       "      <td>NaN</td>\n",
       "      <td>NaN</td>\n",
       "      <td>...</td>\n",
       "      <td>0.023559</td>\n",
       "      <td>-0.057819</td>\n",
       "      <td>-0.016170</td>\n",
       "      <td>0.228918</td>\n",
       "      <td>-0.031281</td>\n",
       "      <td>PLOD2</td>\n",
       "      <td>PLOD2</td>\n",
       "      <td>3q24</td>\n",
       "      <td>3</td>\n",
       "      <td>3q</td>\n",
       "    </tr>\n",
       "    <tr>\n",
       "      <th>946427</th>\n",
       "      <td>source_13</td>\n",
       "      <td>CP-CC9-R8-02</td>\n",
       "      <td>F06</td>\n",
       "      <td>JCP2022_801824</td>\n",
       "      <td>NaN</td>\n",
       "      <td>NaN</td>\n",
       "      <td>NaN</td>\n",
       "      <td>NaN</td>\n",
       "      <td>NaN</td>\n",
       "      <td>NaN</td>\n",
       "      <td>...</td>\n",
       "      <td>-0.202209</td>\n",
       "      <td>-0.004689</td>\n",
       "      <td>-0.157771</td>\n",
       "      <td>0.050958</td>\n",
       "      <td>-0.109742</td>\n",
       "      <td>DLAT</td>\n",
       "      <td>DLAT</td>\n",
       "      <td>11q23.1</td>\n",
       "      <td>11</td>\n",
       "      <td>11q</td>\n",
       "    </tr>\n",
       "    <tr>\n",
       "      <th>946428</th>\n",
       "      <td>source_13</td>\n",
       "      <td>CP-CC9-R8-02</td>\n",
       "      <td>F05</td>\n",
       "      <td>JCP2022_806749</td>\n",
       "      <td>NaN</td>\n",
       "      <td>NaN</td>\n",
       "      <td>NaN</td>\n",
       "      <td>NaN</td>\n",
       "      <td>NaN</td>\n",
       "      <td>NaN</td>\n",
       "      <td>...</td>\n",
       "      <td>-0.053865</td>\n",
       "      <td>0.112224</td>\n",
       "      <td>0.374081</td>\n",
       "      <td>-0.089209</td>\n",
       "      <td>0.148852</td>\n",
       "      <td>SPR</td>\n",
       "      <td>SPR</td>\n",
       "      <td>2p13.2</td>\n",
       "      <td>2</td>\n",
       "      <td>2p</td>\n",
       "    </tr>\n",
       "    <tr>\n",
       "      <th>946429</th>\n",
       "      <td>source_13</td>\n",
       "      <td>CP-CC9-R8-02</td>\n",
       "      <td>F04</td>\n",
       "      <td>JCP2022_807630</td>\n",
       "      <td>NaN</td>\n",
       "      <td>NaN</td>\n",
       "      <td>NaN</td>\n",
       "      <td>NaN</td>\n",
       "      <td>NaN</td>\n",
       "      <td>NaN</td>\n",
       "      <td>...</td>\n",
       "      <td>0.051541</td>\n",
       "      <td>0.086372</td>\n",
       "      <td>0.050768</td>\n",
       "      <td>0.120248</td>\n",
       "      <td>-0.246816</td>\n",
       "      <td>VAV3</td>\n",
       "      <td>VAV3</td>\n",
       "      <td>1p13.3</td>\n",
       "      <td>1</td>\n",
       "      <td>1p</td>\n",
       "    </tr>\n",
       "    <tr>\n",
       "      <th>946430</th>\n",
       "      <td>source_13</td>\n",
       "      <td>CP-CC9-R8-02</td>\n",
       "      <td>F03</td>\n",
       "      <td>JCP2022_804743</td>\n",
       "      <td>NaN</td>\n",
       "      <td>NaN</td>\n",
       "      <td>NaN</td>\n",
       "      <td>NaN</td>\n",
       "      <td>NaN</td>\n",
       "      <td>NaN</td>\n",
       "      <td>...</td>\n",
       "      <td>0.057279</td>\n",
       "      <td>0.025292</td>\n",
       "      <td>0.101040</td>\n",
       "      <td>-0.138308</td>\n",
       "      <td>0.066733</td>\n",
       "      <td>NUDT13</td>\n",
       "      <td>NUDT13</td>\n",
       "      <td>10q22.2</td>\n",
       "      <td>10</td>\n",
       "      <td>10q</td>\n",
       "    </tr>\n",
       "  </tbody>\n",
       "</table>\n",
       "<p>56821 rows × 259 columns</p>\n",
       "</div>"
      ],
      "text/plain": [
       "       Metadata_Source Metadata_Plate Metadata_Well Metadata_JCP2022  \\\n",
       "889610             NaN            NaN           NaN              NaN   \n",
       "889611             NaN            NaN           NaN              NaN   \n",
       "889612             NaN            NaN           NaN              NaN   \n",
       "889613       source_13   CP-CC9-R1-01           E06   JCP2022_806962   \n",
       "889614       source_13   CP-CC9-R1-01           F23   JCP2022_800002   \n",
       "...                ...            ...           ...              ...   \n",
       "946426       source_13   CP-CC9-R8-02           F07   JCP2022_805270   \n",
       "946427       source_13   CP-CC9-R8-02           F06   JCP2022_801824   \n",
       "946428       source_13   CP-CC9-R8-02           F05   JCP2022_806749   \n",
       "946429       source_13   CP-CC9-R8-02           F04   JCP2022_807630   \n",
       "946430       source_13   CP-CC9-R8-02           F03   JCP2022_804743   \n",
       "\n",
       "       Metadata_broad_sample Metadata_Name Metadata_Vector  \\\n",
       "889610                   NaN           NaN             NaN   \n",
       "889611                   NaN           NaN             NaN   \n",
       "889612                   NaN           NaN             NaN   \n",
       "889613                   NaN           NaN             NaN   \n",
       "889614                   NaN           NaN             NaN   \n",
       "...                      ...           ...             ...   \n",
       "946426                   NaN           NaN             NaN   \n",
       "946427                   NaN           NaN             NaN   \n",
       "946428                   NaN           NaN             NaN   \n",
       "946429                   NaN           NaN             NaN   \n",
       "946430                   NaN           NaN             NaN   \n",
       "\n",
       "       Metadata_Transcript Metadata_Symbol_x Metadata_NCBI_Gene_ID_x  ...  \\\n",
       "889610                 NaN               NaN                     NaN  ...   \n",
       "889611                 NaN               NaN                     NaN  ...   \n",
       "889612                 NaN               NaN                     NaN  ...   \n",
       "889613                 NaN               NaN                     NaN  ...   \n",
       "889614                 NaN               NaN                     NaN  ...   \n",
       "...                    ...               ...                     ...  ...   \n",
       "946426                 NaN               NaN                     NaN  ...   \n",
       "946427                 NaN               NaN                     NaN  ...   \n",
       "946428                 NaN               NaN                     NaN  ...   \n",
       "946429                 NaN               NaN                     NaN  ...   \n",
       "946430                 NaN               NaN                     NaN  ...   \n",
       "\n",
       "             227       228       229       230       231  Metadata_Symbol  \\\n",
       "889610       NaN       NaN       NaN       NaN       NaN              NaN   \n",
       "889611       NaN       NaN       NaN       NaN       NaN              NaN   \n",
       "889612       NaN       NaN       NaN       NaN       NaN              NaN   \n",
       "889613 -0.058746  0.159143 -0.055322  0.398936 -0.079594              TAZ   \n",
       "889614  0.039345 -0.157173  0.020388  0.011505  0.181091    non-targeting   \n",
       "...          ...       ...       ...       ...       ...              ...   \n",
       "946426  0.023559 -0.057819 -0.016170  0.228918 -0.031281            PLOD2   \n",
       "946427 -0.202209 -0.004689 -0.157771  0.050958 -0.109742             DLAT   \n",
       "946428 -0.053865  0.112224  0.374081 -0.089209  0.148852              SPR   \n",
       "946429  0.051541  0.086372  0.050768  0.120248 -0.246816             VAV3   \n",
       "946430  0.057279  0.025292  0.101040 -0.138308  0.066733           NUDT13   \n",
       "\n",
       "       Metadata_Approved_symbol Metadata_Locus Metadata_Chromosome  \\\n",
       "889610                      NaN            NaN                 NaN   \n",
       "889611                      NaN            NaN                 NaN   \n",
       "889612                      NaN            NaN                 NaN   \n",
       "889613                     None           None                None   \n",
       "889614                     None           None                None   \n",
       "...                         ...            ...                 ...   \n",
       "946426                    PLOD2           3q24                   3   \n",
       "946427                     DLAT        11q23.1                  11   \n",
       "946428                      SPR         2p13.2                   2   \n",
       "946429                     VAV3         1p13.3                   1   \n",
       "946430                   NUDT13        10q22.2                  10   \n",
       "\n",
       "       Metadata_arm  \n",
       "889610          NaN  \n",
       "889611          NaN  \n",
       "889612          NaN  \n",
       "889613         None  \n",
       "889614         None  \n",
       "...             ...  \n",
       "946426           3q  \n",
       "946427          11q  \n",
       "946428           2p  \n",
       "946429           1p  \n",
       "946430          10q  \n",
       "\n",
       "[56821 rows x 259 columns]"
      ]
     },
     "execution_count": 86,
     "metadata": {},
     "output_type": "execute_result"
    }
   ],
   "source": [
    "non_na_with_locs"
   ]
  },
  {
   "cell_type": "markdown",
   "metadata": {},
   "source": [
    "crispr_df['Metadata_Symbol_y'] and crispr_df['Metadata_Symbol'] is having around 5636 NaN which corresponds to 8 compound poscons and DMSO which can be filtered. Following are the JCP ID's of the 8 compound poscons and DMSO\n",
    "['JCP2022_033924',\n",
    " 'JCP2022_050797',\n",
    " 'JCP2022_025848',\n",
    " 'JCP2022_046054',\n",
    " 'JCP2022_037716',\n",
    " 'JCP2022_064022',\n",
    " 'JCP2022_012818',\n",
    " 'JCP2022_085227',\n",
    " 'JCP2022_035095']"
   ]
  },
  {
   "cell_type": "code",
   "execution_count": 67,
   "metadata": {},
   "outputs": [],
   "source": [
    "#Filtering/dropping the JCP ID's corresponding to 8 compound poscons and DMSO\n",
    "crispr_df = crispr_df[~(crispr_df[\"Metadata_JCP2022\"].isin(['JCP2022_033924',\n",
    " 'JCP2022_050797',\n",
    " 'JCP2022_025848',\n",
    " 'JCP2022_046054',\n",
    " 'JCP2022_037716',\n",
    " 'JCP2022_064022',\n",
    " 'JCP2022_012818',\n",
    " 'JCP2022_085227',\n",
    " 'JCP2022_035095']))]"
   ]
  },
  {
   "cell_type": "code",
   "execution_count": 69,
   "metadata": {},
   "outputs": [
    {
     "data": {
      "text/plain": [
       "0"
      ]
     },
     "execution_count": 69,
     "metadata": {},
     "output_type": "execute_result"
    }
   ],
   "source": [
    "len(crispr_df[(crispr_df[\"Metadata_JCP2022\"].isin(['JCP2022_033924',\n",
    " 'JCP2022_050797',\n",
    " 'JCP2022_025848',\n",
    " 'JCP2022_046054',\n",
    " 'JCP2022_037716',\n",
    " 'JCP2022_064022',\n",
    " 'JCP2022_012818',\n",
    " 'JCP2022_085227',\n",
    " 'JCP2022_035095']))])"
   ]
  },
  {
   "cell_type": "code",
   "execution_count": 66,
   "metadata": {},
   "outputs": [
    {
     "data": {
      "text/plain": [
       "False"
      ]
     },
     "execution_count": 66,
     "metadata": {},
     "output_type": "execute_result"
    }
   ],
   "source": [
    "'JCP2022_033924' in crispr_df['Metadata_Symbol_y'].values"
   ]
  },
  {
   "cell_type": "code",
   "execution_count": 63,
   "metadata": {},
   "outputs": [
    {
     "data": {
      "text/plain": [
       "(56821, 259)"
      ]
     },
     "execution_count": 63,
     "metadata": {},
     "output_type": "execute_result"
    }
   ],
   "source": [
    "crispr_df.shape"
   ]
  },
  {
   "cell_type": "code",
   "execution_count": 43,
   "metadata": {},
   "outputs": [
    {
     "name": "stdout",
     "output_type": "stream",
     "text": [
      "       Metadata_Source Metadata_Plate Metadata_Well Metadata_JCP2022  \\\n",
      "889610       source_13   CP-CC9-R1-01           F02   JCP2022_033924   \n",
      "889611       source_13   CP-CC9-R1-01           F01   JCP2022_064022   \n",
      "889612       source_13   CP-CC9-R1-01           E24   JCP2022_085227   \n",
      "889615       source_13   CP-CC9-R1-01           E23   JCP2022_033924   \n",
      "889616       source_13   CP-CC9-R1-01           F24   JCP2022_037716   \n",
      "...                ...            ...           ...              ...   \n",
      "903550       source_13   CP-CC9-R8-02           E24   JCP2022_085227   \n",
      "903551       source_13   CP-CC9-R8-02           F01   JCP2022_064022   \n",
      "903552       source_13   CP-CC9-R8-02           F02   JCP2022_033924   \n",
      "903553       source_13   CP-CC9-R8-02           H24   JCP2022_046054   \n",
      "903554       source_13   CP-CC9-R8-02           P24   JCP2022_046054   \n",
      "\n",
      "       Metadata_broad_sample Metadata_Name Metadata_Vector  \\\n",
      "889610                   NaN           NaN             NaN   \n",
      "889611                   NaN           NaN             NaN   \n",
      "889612                   NaN           NaN             NaN   \n",
      "889615                   NaN           NaN             NaN   \n",
      "889616                   NaN           NaN             NaN   \n",
      "...                      ...           ...             ...   \n",
      "903550                   NaN           NaN             NaN   \n",
      "903551                   NaN           NaN             NaN   \n",
      "903552                   NaN           NaN             NaN   \n",
      "903553                   NaN           NaN             NaN   \n",
      "903554                   NaN           NaN             NaN   \n",
      "\n",
      "       Metadata_Transcript Metadata_Symbol_x Metadata_NCBI_Gene_ID_x  ...  \\\n",
      "889610                 NaN               NaN                     NaN  ...   \n",
      "889611                 NaN               NaN                     NaN  ...   \n",
      "889612                 NaN               NaN                     NaN  ...   \n",
      "889615                 NaN               NaN                     NaN  ...   \n",
      "889616                 NaN               NaN                     NaN  ...   \n",
      "...                    ...               ...                     ...  ...   \n",
      "903550                 NaN               NaN                     NaN  ...   \n",
      "903551                 NaN               NaN                     NaN  ...   \n",
      "903552                 NaN               NaN                     NaN  ...   \n",
      "903553                 NaN               NaN                     NaN  ...   \n",
      "903554                 NaN               NaN                     NaN  ...   \n",
      "\n",
      "             227       228       229       230       231  Metadata_Symbol  \\\n",
      "889610  0.069665  0.159639 -0.015946  0.048495 -0.120604             None   \n",
      "889611 -0.109784  0.112782  0.250838 -0.162461  0.155150             None   \n",
      "889612 -0.098426 -0.175501  0.030599 -0.146692  0.103077             None   \n",
      "889615 -0.217827  0.050887  0.025817 -0.009946 -0.021165             None   \n",
      "889616 -0.719479 -0.261224  0.875903 -0.017766  0.199284             None   \n",
      "...          ...       ...       ...       ...       ...              ...   \n",
      "903550 -0.108699  0.017262  0.137391  0.004341 -0.035773             None   \n",
      "903551 -0.229363  0.083662 -0.212262  0.026978 -0.030143             None   \n",
      "903552 -0.231494  0.056627  0.204283 -0.068232  0.039940             None   \n",
      "903553 -0.350417  0.120289 -0.036970 -0.046609  0.241583             None   \n",
      "903554 -0.450800  0.410495  0.136190  0.128040  0.275945             None   \n",
      "\n",
      "       Metadata_Approved_symbol Metadata_Locus Metadata_Chromosome  \\\n",
      "889610                     None           None                None   \n",
      "889611                     None           None                None   \n",
      "889612                     None           None                None   \n",
      "889615                     None           None                None   \n",
      "889616                     None           None                None   \n",
      "...                         ...            ...                 ...   \n",
      "903550                     None           None                None   \n",
      "903551                     None           None                None   \n",
      "903552                     None           None                None   \n",
      "903553                     None           None                None   \n",
      "903554                     None           None                None   \n",
      "\n",
      "       Metadata_arm  \n",
      "889610         None  \n",
      "889611         None  \n",
      "889612         None  \n",
      "889615         None  \n",
      "889616         None  \n",
      "...             ...  \n",
      "903550         None  \n",
      "903551         None  \n",
      "903552         None  \n",
      "903553         None  \n",
      "903554         None  \n",
      "\n",
      "[5636 rows x 259 columns]\n"
     ]
    }
   ],
   "source": [
    "differences = crispr_df[crispr_df['Metadata_Symbol_y'] != crispr_df['Metadata_Symbol']]\n",
    "print(differences)"
   ]
  },
  {
   "cell_type": "code",
   "execution_count": 48,
   "metadata": {},
   "outputs": [],
   "source": [
    "only_two = differences[['Metadata_Symbol_y', 'Metadata_Symbol']]"
   ]
  },
  {
   "cell_type": "code",
   "execution_count": 51,
   "metadata": {},
   "outputs": [
    {
     "data": {
      "text/plain": [
       "Metadata_Symbol_y    True\n",
       "Metadata_Symbol      True\n",
       "dtype: bool"
      ]
     },
     "execution_count": 51,
     "metadata": {},
     "output_type": "execute_result"
    }
   ],
   "source": [
    "only_two.isnull().all()"
   ]
  },
  {
   "cell_type": "code",
   "execution_count": 15,
   "metadata": {},
   "outputs": [
    {
     "ename": "KeyError",
     "evalue": "\"['Metadata_Symbol_x', 'Metadata_NCBI_Gene_ID_x', 'Metadata_Symbol'] not found in axis\"",
     "output_type": "error",
     "traceback": [
      "\u001b[1;31m---------------------------------------------------------------------------\u001b[0m",
      "\u001b[1;31mKeyError\u001b[0m                                  Traceback (most recent call last)",
      "Cell \u001b[1;32mIn[15], line 2\u001b[0m\n\u001b[0;32m      1\u001b[0m \u001b[38;5;66;03m#dropping the columns ['Metadata_Symbol_x'] and ['Metadata_NCBI_Gene_ID_x'] since they have NaNs\u001b[39;00m\n\u001b[1;32m----> 2\u001b[0m crispr_df \u001b[38;5;241m=\u001b[39m \u001b[43mcrispr_df\u001b[49m\u001b[38;5;241;43m.\u001b[39;49m\u001b[43mdrop\u001b[49m\u001b[43m(\u001b[49m\u001b[43m[\u001b[49m\u001b[38;5;124;43m'\u001b[39;49m\u001b[38;5;124;43mMetadata_Symbol_x\u001b[39;49m\u001b[38;5;124;43m'\u001b[39;49m\u001b[43m,\u001b[49m\u001b[43m \u001b[49m\u001b[38;5;124;43m'\u001b[39;49m\u001b[38;5;124;43mMetadata_NCBI_Gene_ID_x\u001b[39;49m\u001b[38;5;124;43m'\u001b[39;49m\u001b[43m,\u001b[49m\u001b[43m \u001b[49m\u001b[38;5;124;43m'\u001b[39;49m\u001b[38;5;124;43mMetadata_Symbol\u001b[39;49m\u001b[38;5;124;43m'\u001b[39;49m\u001b[43m]\u001b[49m\u001b[43m,\u001b[49m\u001b[43m \u001b[49m\u001b[43maxis\u001b[49m\u001b[38;5;241;43m=\u001b[39;49m\u001b[38;5;241;43m1\u001b[39;49m\u001b[43m)\u001b[49m\n",
      "File \u001b[1;32mc:\\Users\\ssivagur\\Anaconda3\\envs\\copairs\\Lib\\site-packages\\pandas\\core\\frame.py:5568\u001b[0m, in \u001b[0;36mDataFrame.drop\u001b[1;34m(self, labels, axis, index, columns, level, inplace, errors)\u001b[0m\n\u001b[0;32m   5420\u001b[0m \u001b[38;5;28;01mdef\u001b[39;00m \u001b[38;5;21mdrop\u001b[39m(\n\u001b[0;32m   5421\u001b[0m     \u001b[38;5;28mself\u001b[39m,\n\u001b[0;32m   5422\u001b[0m     labels: IndexLabel \u001b[38;5;241m|\u001b[39m \u001b[38;5;28;01mNone\u001b[39;00m \u001b[38;5;241m=\u001b[39m \u001b[38;5;28;01mNone\u001b[39;00m,\n\u001b[1;32m   (...)\u001b[0m\n\u001b[0;32m   5429\u001b[0m     errors: IgnoreRaise \u001b[38;5;241m=\u001b[39m \u001b[38;5;124m\"\u001b[39m\u001b[38;5;124mraise\u001b[39m\u001b[38;5;124m\"\u001b[39m,\n\u001b[0;32m   5430\u001b[0m ) \u001b[38;5;241m-\u001b[39m\u001b[38;5;241m>\u001b[39m DataFrame \u001b[38;5;241m|\u001b[39m \u001b[38;5;28;01mNone\u001b[39;00m:\n\u001b[0;32m   5431\u001b[0m \u001b[38;5;250m    \u001b[39m\u001b[38;5;124;03m\"\"\"\u001b[39;00m\n\u001b[0;32m   5432\u001b[0m \u001b[38;5;124;03m    Drop specified labels from rows or columns.\u001b[39;00m\n\u001b[0;32m   5433\u001b[0m \n\u001b[1;32m   (...)\u001b[0m\n\u001b[0;32m   5566\u001b[0m \u001b[38;5;124;03m            weight  1.0     0.8\u001b[39;00m\n\u001b[0;32m   5567\u001b[0m \u001b[38;5;124;03m    \"\"\"\u001b[39;00m\n\u001b[1;32m-> 5568\u001b[0m     \u001b[38;5;28;01mreturn\u001b[39;00m \u001b[38;5;28;43msuper\u001b[39;49m\u001b[43m(\u001b[49m\u001b[43m)\u001b[49m\u001b[38;5;241;43m.\u001b[39;49m\u001b[43mdrop\u001b[49m\u001b[43m(\u001b[49m\n\u001b[0;32m   5569\u001b[0m \u001b[43m        \u001b[49m\u001b[43mlabels\u001b[49m\u001b[38;5;241;43m=\u001b[39;49m\u001b[43mlabels\u001b[49m\u001b[43m,\u001b[49m\n\u001b[0;32m   5570\u001b[0m \u001b[43m        \u001b[49m\u001b[43maxis\u001b[49m\u001b[38;5;241;43m=\u001b[39;49m\u001b[43maxis\u001b[49m\u001b[43m,\u001b[49m\n\u001b[0;32m   5571\u001b[0m \u001b[43m        \u001b[49m\u001b[43mindex\u001b[49m\u001b[38;5;241;43m=\u001b[39;49m\u001b[43mindex\u001b[49m\u001b[43m,\u001b[49m\n\u001b[0;32m   5572\u001b[0m \u001b[43m        \u001b[49m\u001b[43mcolumns\u001b[49m\u001b[38;5;241;43m=\u001b[39;49m\u001b[43mcolumns\u001b[49m\u001b[43m,\u001b[49m\n\u001b[0;32m   5573\u001b[0m \u001b[43m        \u001b[49m\u001b[43mlevel\u001b[49m\u001b[38;5;241;43m=\u001b[39;49m\u001b[43mlevel\u001b[49m\u001b[43m,\u001b[49m\n\u001b[0;32m   5574\u001b[0m \u001b[43m        \u001b[49m\u001b[43minplace\u001b[49m\u001b[38;5;241;43m=\u001b[39;49m\u001b[43minplace\u001b[49m\u001b[43m,\u001b[49m\n\u001b[0;32m   5575\u001b[0m \u001b[43m        \u001b[49m\u001b[43merrors\u001b[49m\u001b[38;5;241;43m=\u001b[39;49m\u001b[43merrors\u001b[49m\u001b[43m,\u001b[49m\n\u001b[0;32m   5576\u001b[0m \u001b[43m    \u001b[49m\u001b[43m)\u001b[49m\n",
      "File \u001b[1;32mc:\\Users\\ssivagur\\Anaconda3\\envs\\copairs\\Lib\\site-packages\\pandas\\core\\generic.py:4785\u001b[0m, in \u001b[0;36mNDFrame.drop\u001b[1;34m(self, labels, axis, index, columns, level, inplace, errors)\u001b[0m\n\u001b[0;32m   4783\u001b[0m \u001b[38;5;28;01mfor\u001b[39;00m axis, labels \u001b[38;5;129;01min\u001b[39;00m axes\u001b[38;5;241m.\u001b[39mitems():\n\u001b[0;32m   4784\u001b[0m     \u001b[38;5;28;01mif\u001b[39;00m labels \u001b[38;5;129;01mis\u001b[39;00m \u001b[38;5;129;01mnot\u001b[39;00m \u001b[38;5;28;01mNone\u001b[39;00m:\n\u001b[1;32m-> 4785\u001b[0m         obj \u001b[38;5;241m=\u001b[39m \u001b[43mobj\u001b[49m\u001b[38;5;241;43m.\u001b[39;49m\u001b[43m_drop_axis\u001b[49m\u001b[43m(\u001b[49m\u001b[43mlabels\u001b[49m\u001b[43m,\u001b[49m\u001b[43m \u001b[49m\u001b[43maxis\u001b[49m\u001b[43m,\u001b[49m\u001b[43m \u001b[49m\u001b[43mlevel\u001b[49m\u001b[38;5;241;43m=\u001b[39;49m\u001b[43mlevel\u001b[49m\u001b[43m,\u001b[49m\u001b[43m \u001b[49m\u001b[43merrors\u001b[49m\u001b[38;5;241;43m=\u001b[39;49m\u001b[43merrors\u001b[49m\u001b[43m)\u001b[49m\n\u001b[0;32m   4787\u001b[0m \u001b[38;5;28;01mif\u001b[39;00m inplace:\n\u001b[0;32m   4788\u001b[0m     \u001b[38;5;28mself\u001b[39m\u001b[38;5;241m.\u001b[39m_update_inplace(obj)\n",
      "File \u001b[1;32mc:\\Users\\ssivagur\\Anaconda3\\envs\\copairs\\Lib\\site-packages\\pandas\\core\\generic.py:4827\u001b[0m, in \u001b[0;36mNDFrame._drop_axis\u001b[1;34m(self, labels, axis, level, errors, only_slice)\u001b[0m\n\u001b[0;32m   4825\u001b[0m         new_axis \u001b[38;5;241m=\u001b[39m axis\u001b[38;5;241m.\u001b[39mdrop(labels, level\u001b[38;5;241m=\u001b[39mlevel, errors\u001b[38;5;241m=\u001b[39merrors)\n\u001b[0;32m   4826\u001b[0m     \u001b[38;5;28;01melse\u001b[39;00m:\n\u001b[1;32m-> 4827\u001b[0m         new_axis \u001b[38;5;241m=\u001b[39m \u001b[43maxis\u001b[49m\u001b[38;5;241;43m.\u001b[39;49m\u001b[43mdrop\u001b[49m\u001b[43m(\u001b[49m\u001b[43mlabels\u001b[49m\u001b[43m,\u001b[49m\u001b[43m \u001b[49m\u001b[43merrors\u001b[49m\u001b[38;5;241;43m=\u001b[39;49m\u001b[43merrors\u001b[49m\u001b[43m)\u001b[49m\n\u001b[0;32m   4828\u001b[0m     indexer \u001b[38;5;241m=\u001b[39m axis\u001b[38;5;241m.\u001b[39mget_indexer(new_axis)\n\u001b[0;32m   4830\u001b[0m \u001b[38;5;66;03m# Case for non-unique axis\u001b[39;00m\n\u001b[0;32m   4831\u001b[0m \u001b[38;5;28;01melse\u001b[39;00m:\n",
      "File \u001b[1;32mc:\\Users\\ssivagur\\Anaconda3\\envs\\copairs\\Lib\\site-packages\\pandas\\core\\indexes\\base.py:7070\u001b[0m, in \u001b[0;36mIndex.drop\u001b[1;34m(self, labels, errors)\u001b[0m\n\u001b[0;32m   7068\u001b[0m \u001b[38;5;28;01mif\u001b[39;00m mask\u001b[38;5;241m.\u001b[39many():\n\u001b[0;32m   7069\u001b[0m     \u001b[38;5;28;01mif\u001b[39;00m errors \u001b[38;5;241m!=\u001b[39m \u001b[38;5;124m\"\u001b[39m\u001b[38;5;124mignore\u001b[39m\u001b[38;5;124m\"\u001b[39m:\n\u001b[1;32m-> 7070\u001b[0m         \u001b[38;5;28;01mraise\u001b[39;00m \u001b[38;5;167;01mKeyError\u001b[39;00m(\u001b[38;5;124mf\u001b[39m\u001b[38;5;124m\"\u001b[39m\u001b[38;5;132;01m{\u001b[39;00mlabels[mask]\u001b[38;5;241m.\u001b[39mtolist()\u001b[38;5;132;01m}\u001b[39;00m\u001b[38;5;124m not found in axis\u001b[39m\u001b[38;5;124m\"\u001b[39m)\n\u001b[0;32m   7071\u001b[0m     indexer \u001b[38;5;241m=\u001b[39m indexer[\u001b[38;5;241m~\u001b[39mmask]\n\u001b[0;32m   7072\u001b[0m \u001b[38;5;28;01mreturn\u001b[39;00m \u001b[38;5;28mself\u001b[39m\u001b[38;5;241m.\u001b[39mdelete(indexer)\n",
      "\u001b[1;31mKeyError\u001b[0m: \"['Metadata_Symbol_x', 'Metadata_NCBI_Gene_ID_x', 'Metadata_Symbol'] not found in axis\""
     ]
    }
   ],
   "source": [
    "#dropping the columns ['Metadata_Symbol_x'] and ['Metadata_NCBI_Gene_ID_x'] since they have NaNs\n",
    "crispr_df = crispr_df.drop(['Metadata_Symbol_x', 'Metadata_NCBI_Gene_ID_x', 'Metadata_Symbol'], axis=1)"
   ]
  },
  {
   "cell_type": "code",
   "execution_count": 13,
   "metadata": {},
   "outputs": [],
   "source": [
    "#renaming the ['Metadata_Symbol_y'] and ['Metadata_NCBI_Gene_ID_y'] to be used downstream \n",
    "crispr_df = crispr_df.rename(columns={'Metadata_NCBI_Gene_ID_y':'Metadata_NCBI_Gene_ID', 'Metadata_Symbol_y':'Metadata_Symbol'})"
   ]
  },
  {
   "cell_type": "code",
   "execution_count": 14,
   "metadata": {},
   "outputs": [
    {
     "data": {
      "text/plain": [
       "(56821, 256)"
      ]
     },
     "execution_count": 14,
     "metadata": {},
     "output_type": "execute_result"
    }
   ],
   "source": [
    "crispr_df.shape"
   ]
  },
  {
   "cell_type": "code",
   "execution_count": 15,
   "metadata": {},
   "outputs": [],
   "source": [
    "crispr_df.to_parquet('C:\\\\Users\\\\ssivagur\\\\Documents\\\\GitHub\\\\ssivagur\\\\FeatureSpaceIntegration\\\\CRISPRPipelineValidation\\\\profiles_crispr.parquet')"
   ]
  },
  {
   "cell_type": "markdown",
   "metadata": {},
   "source": [
    "The size of the original file is (51185, 263)"
   ]
  },
  {
   "cell_type": "markdown",
   "metadata": {},
   "source": [
    "#### Add annotations - not running this since the profiles alreayd has the metadata in it "
   ]
  },
  {
   "cell_type": "code",
   "execution_count": 11,
   "metadata": {},
   "outputs": [
    {
     "data": {
      "text/plain": [
       "(56821, 651)"
      ]
     },
     "execution_count": 11,
     "metadata": {},
     "output_type": "execute_result"
    }
   ],
   "source": [
    "#    pd.read_csv(\n",
    "#        \"../00.download-and-process-annotations/output/crispr_metadata.tsv.gz\", sep=\"\\t\"\n",
    "#    )\n",
    "#   .merge(crispr_controls_df, on=\"Metadata_JCP2022\", how=\"left\")\n",
    "#    .fillna(value={\"Metadata_pert_type\": \"trt\"})\n",
    "#)\n",
    "#compound_metadata_df = pd.read_csv(\n",
    "#    \"../datasets/metadata/compound.csv.gz\", usecols=[\"Metadata_JCP2022\"]\n",
    "#).assign(\n",
    "#    Metadata_pert_type=lambda x: np.where(\n",
    "#        x[\"Metadata_JCP2022\"] == \"JCP2022_999999\", \"empty\", \"poscon\"\n",
    "#    )\n",
    "#)\n",
    "\n",
    "#metadata_df = pd.concat(\n",
    "#    [crispr_metdata_df, compound_metadata_df],\n",
    "#    join=\"outer\",\n",
    "#    ignore_index=True,\n",
    "#)\n",
    "\n",
    "#crispr_df = crispr_df.merge(metadata_df, on=\"Metadata_JCP2022\", how=\"inner\")\n",
    "#crispr_df.shape"
   ]
  },
  {
   "cell_type": "markdown",
   "metadata": {},
   "source": [
    "#### Remove `poscon` wells."
   ]
  },
  {
   "cell_type": "code",
   "execution_count": 16,
   "metadata": {},
   "outputs": [
    {
     "data": {
      "text/plain": [
       "(51744, 256)"
      ]
     },
     "execution_count": 16,
     "metadata": {},
     "output_type": "execute_result"
    }
   ],
   "source": [
    "crispr_df = crispr_df.query('Metadata_pert_type!=\"poscon\"').reset_index(drop=True)\n",
    "crispr_df.shape"
   ]
  },
  {
   "attachments": {},
   "cell_type": "markdown",
   "metadata": {},
   "source": [
    "#### Remove featues with `nan` values.\n",
    "These need to be removed as the `nan` values will cause the mean average precision calculation to fail."
   ]
  },
  {
   "cell_type": "code",
   "execution_count": 17,
   "metadata": {},
   "outputs": [
    {
     "name": "stdout",
     "output_type": "stream",
     "text": [
      "Removed nan features: []\n"
     ]
    },
    {
     "data": {
      "text/plain": [
       "(51744, 256)"
      ]
     },
     "execution_count": 17,
     "metadata": {},
     "output_type": "execute_result"
    }
   ],
   "source": [
    "crispr_df = utils.remove_nan_features(crispr_df)\n",
    "crispr_df.shape"
   ]
  },
  {
   "cell_type": "markdown",
   "metadata": {},
   "source": [
    "#### Remove reagents with only one replicate"
   ]
  },
  {
   "cell_type": "code",
   "execution_count": 18,
   "metadata": {},
   "outputs": [
    {
     "data": {
      "text/plain": [
       "['JCP2022_807435', 'JCP2022_807044', 'JCP2022_803433']"
      ]
     },
     "execution_count": 18,
     "metadata": {},
     "output_type": "execute_result"
    }
   ],
   "source": [
    "crispr_df.Metadata_JCP2022.value_counts()[\n",
    "        crispr_df.Metadata_JCP2022.value_counts() == 1\n",
    "    ].reset_index()['Metadata_JCP2022'].tolist()"
   ]
  },
  {
   "cell_type": "code",
   "execution_count": 19,
   "metadata": {},
   "outputs": [],
   "source": [
    "#changed the code to the column name\n",
    "reagents_with_one_replicate = (\n",
    "    crispr_df.Metadata_JCP2022.value_counts()[\n",
    "        crispr_df.Metadata_JCP2022.value_counts() == 1\n",
    "    ]\n",
    "    .reset_index()[\"Metadata_JCP2022\"] #.reset_index()[\"index\"]\n",
    "    .tolist()\n",
    ")\n"
   ]
  },
  {
   "cell_type": "code",
   "execution_count": 20,
   "metadata": {},
   "outputs": [
    {
     "data": {
      "text/plain": [
       "(51741, 256)"
      ]
     },
     "execution_count": 20,
     "metadata": {},
     "output_type": "execute_result"
    }
   ],
   "source": [
    "\n",
    "crispr_df = crispr_df[~crispr_df.Metadata_JCP2022.isin(reagents_with_one_replicate)]\n",
    "crispr_df.shape"
   ]
  },
  {
   "attachments": {},
   "cell_type": "markdown",
   "metadata": {},
   "source": [
    "### Calculate mAP for each ORF perturbation"
   ]
  },
  {
   "cell_type": "code",
   "execution_count": 21,
   "metadata": {},
   "outputs": [],
   "source": [
    "# Adding a new column for negative control\n",
    "crispr_df[\"Metadata_negcon\"] = np.where(crispr_df[\"Metadata_pert_type\"] == \"negcon\", 1, 0)"
   ]
  },
  {
   "cell_type": "code",
   "execution_count": 22,
   "metadata": {},
   "outputs": [],
   "source": [
    "pos_sameby = [\"Metadata_JCP2022\"]\n",
    "pos_diffby = []\n",
    "neg_sameby = [\"Metadata_Plate\"]\n",
    "neg_diffby = [\"Metadata_negcon\"]"
   ]
  },
  {
   "cell_type": "code",
   "execution_count": 23,
   "metadata": {},
   "outputs": [],
   "source": [
    "metadata_df = utils.get_metadata(crispr_df)\n",
    "feature_df = utils.get_featuredata(crispr_df)\n",
    "feature_values = feature_df.values"
   ]
  },
  {
   "cell_type": "code",
   "execution_count": 24,
   "metadata": {},
   "outputs": [
    {
     "name": "stderr",
     "output_type": "stream",
     "text": [
      "INFO:2024-08-22 17:41:40,142:copairs:Indexing metadata...\n",
      "INFO:2024-08-22 17:41:40,218:copairs:Finding positive pairs...\n",
      "INFO:2024-08-22 17:41:49,079:copairs:Finding negative pairs...\n",
      "INFO:2024-08-22 17:41:50,214:copairs:Computing positive similarities...\n",
      "INFO:2024-08-22 17:42:07,637:copairs:Computing negative similarities...\n",
      "INFO:2024-08-22 17:42:09,462:copairs:Building rank lists...\n",
      "INFO:2024-08-22 17:42:33,607:copairs:Computing average precision...\n",
      "INFO:2024-08-22 17:42:34,329:copairs:Creating result DataFrame...\n",
      "INFO:2024-08-22 17:42:34,336:copairs:Finished.\n"
     ]
    }
   ],
   "source": [
    "result = average_precision(\n",
    "    metadata_df, feature_values, pos_sameby, pos_diffby, neg_sameby, neg_diffby, batch_size=batch_size\n",
    ")"
   ]
  },
  {
   "cell_type": "code",
   "execution_count": 25,
   "metadata": {},
   "outputs": [],
   "source": [
    "# Remove negcon\n",
    "result = result.query('Metadata_pert_type!=\"negcon\"').reset_index(drop=True)"
   ]
  },
  {
   "cell_type": "code",
   "execution_count": 26,
   "metadata": {},
   "outputs": [
    {
     "name": "stderr",
     "output_type": "stream",
     "text": [
      "INFO:2024-08-22 17:42:44,775:copairs:Computing null_dist...\n"
     ]
    },
    {
     "name": "stderr",
     "output_type": "stream",
     "text": [
      "INFO:2024-08-22 17:42:44,864:copairs:Computing p-values...\n",
      "                                                     \r"
     ]
    }
   ],
   "source": [
    "agg_result = (\n",
    "    mean_average_precision(result, pos_sameby, null_size=null_size, threshold=fdr, seed=12527)\n",
    "    .rename(columns={'average_precision': 'mean_average_precision'})\n",
    ")"
   ]
  },
  {
   "cell_type": "code",
   "execution_count": 27,
   "metadata": {},
   "outputs": [],
   "source": [
    "agg_result.to_csv(f\"C:\\\\Users\\\\ssivagur\\\\Documents\\\\GitHub\\\\ssivagur\\\\FeatureSpaceIntegration\\\\CRISPRPipelineValidation\\\\PhenotypicActivity_CRISPR.csv.gz\", index=False)"
   ]
  }
 ],
 "metadata": {
  "kernelspec": {
   "display_name": "Python 3",
   "language": "python",
   "name": "python3"
  },
  "language_info": {
   "codemirror_mode": {
    "name": "ipython",
    "version": 3
   },
   "file_extension": ".py",
   "mimetype": "text/x-python",
   "name": "python",
   "nbconvert_exporter": "python",
   "pygments_lexer": "ipython3",
   "version": "3.12.2"
  },
  "orig_nbformat": 4,
  "vscode": {
   "interpreter": {
    "hash": "aee8b7b246df8f9039afb4144a1f6fd8d2ca17a180786b69acc140d282b71a49"
   }
  }
 },
 "nbformat": 4,
 "nbformat_minor": 2
}
