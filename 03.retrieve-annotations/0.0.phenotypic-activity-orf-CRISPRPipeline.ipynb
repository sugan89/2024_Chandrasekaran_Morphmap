{
 "cells": [
  {
   "cell_type": "code",
   "execution_count": 1,
   "metadata": {},
   "outputs": [
    {
     "name": "stderr",
     "output_type": "stream",
     "text": [
      "c:\\Users\\ssivagur\\Anaconda3\\envs\\copairs\\Lib\\site-packages\\tqdm\\auto.py:21: TqdmWarning: IProgress not found. Please update jupyter and ipywidgets. See https://ipywidgets.readthedocs.io/en/stable/user_install.html\n",
      "  from .autonotebook import tqdm as notebook_tqdm\n"
     ]
    }
   ],
   "source": [
    "import pandas as pd\n",
    "import utils\n",
    "import numpy as np\n",
    "import warnings\n",
    "from tqdm import tqdm\n",
    "from copairs.map import average_precision, mean_average_precision\n",
    "import logging\n",
    "\n",
    "logging.basicConfig(format=\"%(levelname)s:%(asctime)s:%(name)s:%(message)s\")\n",
    "logging.getLogger(\"copairs\").setLevel(logging.INFO)\n",
    "\n",
    "warnings.simplefilter(action=\"ignore\", category=FutureWarning)"
   ]
  },
  {
   "cell_type": "code",
   "execution_count": 2,
   "metadata": {},
   "outputs": [],
   "source": [
    "#operations = \"wellpos_cc_var_mad_outlier_featselect_sphering_harmony\"\n",
    "batch_size = 20000\n",
    "null_size = 20000\n",
    "fdr = 0.1"
   ]
  },
  {
   "attachments": {},
   "cell_type": "markdown",
   "metadata": {},
   "source": [
    "### Prepare the data"
   ]
  },
  {
   "attachments": {},
   "cell_type": "markdown",
   "metadata": {},
   "source": [
    "#### Read the CRISPR parquet file"
   ]
  },
  {
   "cell_type": "code",
   "execution_count": 3,
   "metadata": {},
   "outputs": [
    {
     "name": "stderr",
     "output_type": "stream",
     "text": [
      "<>:2: SyntaxWarning: invalid escape sequence '\\C'\n",
      "<>:2: SyntaxWarning: invalid escape sequence '\\C'\n",
      "C:\\Users\\ssivagur\\AppData\\Local\\Temp\\ipykernel_27540\\985476001.py:2: SyntaxWarning: invalid escape sequence '\\C'\n",
      "  raw_CRISPR_df = pd.read_parquet('C:\\\\Users\\\\ssivagur\\\\Documents\\\\GitHub\\\\ssivagur\\\\FeatureSpaceIntegration\\\\\\CRISPRPipelineValidation\\\\profiles_wellpos_cc_var_mad_outlier_featselect_sphering_harmony_PCA_corrected.parquet')\n"
     ]
    }
   ],
   "source": [
    "#Reading the output from the ORF pipeline\n",
    "raw_CRISPR_df = pd.read_parquet('C:\\\\Users\\\\ssivagur\\\\Documents\\\\GitHub\\\\ssivagur\\\\FeatureSpaceIntegration\\\\\\CRISPRPipelineValidation\\\\profiles_wellpos_cc_var_mad_outlier_featselect_sphering_harmony_PCA_corrected.parquet')"
   ]
  },
  {
   "cell_type": "code",
   "execution_count": 4,
   "metadata": {},
   "outputs": [
    {
     "data": {
      "text/plain": [
       "(946431, 259)"
      ]
     },
     "execution_count": 4,
     "metadata": {},
     "output_type": "execute_result"
    }
   ],
   "source": [
    "raw_CRISPR_df.shape"
   ]
  },
  {
   "cell_type": "code",
   "execution_count": 5,
   "metadata": {},
   "outputs": [],
   "source": [
    "# Filtering only the ORF from the raw output \n",
    "orf_df = raw_CRISPR_df[raw_CRISPR_df['Metadata_PlateType'] == 'ORF']"
   ]
  },
  {
   "cell_type": "code",
   "execution_count": 6,
   "metadata": {},
   "outputs": [
    {
     "data": {
      "text/plain": [
       "(82483, 259)"
      ]
     },
     "execution_count": 6,
     "metadata": {},
     "output_type": "execute_result"
    }
   ],
   "source": [
    "orf_df.shape"
   ]
  },
  {
   "cell_type": "code",
   "execution_count": 7,
   "metadata": {},
   "outputs": [],
   "source": [
    "#dropping the duplicate metadata columns\n",
    "orf_df_cols = [c for c in orf_df.columns if c.startswith(\"Metadata_\")]"
   ]
  },
  {
   "cell_type": "code",
   "execution_count": 8,
   "metadata": {},
   "outputs": [
    {
     "data": {
      "text/plain": [
       "['Metadata_Source',\n",
       " 'Metadata_Plate',\n",
       " 'Metadata_Well',\n",
       " 'Metadata_JCP2022',\n",
       " 'Metadata_broad_sample',\n",
       " 'Metadata_Name',\n",
       " 'Metadata_Vector',\n",
       " 'Metadata_Transcript',\n",
       " 'Metadata_Symbol_x',\n",
       " 'Metadata_NCBI_Gene_ID_x',\n",
       " 'Metadata_Taxon_ID',\n",
       " 'Metadata_Gene_Description',\n",
       " 'Metadata_Prot_Match',\n",
       " 'Metadata_Insert_Length',\n",
       " 'Metadata_pert_type',\n",
       " 'Metadata_NCBI_Gene_ID_y',\n",
       " 'Metadata_Symbol_y',\n",
       " 'Metadata_Batch',\n",
       " 'Metadata_PlateType',\n",
       " 'Metadata_Row',\n",
       " 'Metadata_Column',\n",
       " 'Metadata_Microscope',\n",
       " 'Metadata_Symbol',\n",
       " 'Metadata_Approved_symbol',\n",
       " 'Metadata_Locus',\n",
       " 'Metadata_Chromosome',\n",
       " 'Metadata_arm']"
      ]
     },
     "execution_count": 8,
     "metadata": {},
     "output_type": "execute_result"
    }
   ],
   "source": [
    "orf_df_cols"
   ]
  },
  {
   "cell_type": "code",
   "execution_count": 9,
   "metadata": {},
   "outputs": [
    {
     "data": {
      "text/plain": [
       "334537   NaN\n",
       "334538   NaN\n",
       "334539   NaN\n",
       "334540   NaN\n",
       "334541   NaN\n",
       "          ..\n",
       "417015   NaN\n",
       "417016   NaN\n",
       "417017   NaN\n",
       "417018   NaN\n",
       "417019   NaN\n",
       "Name: Metadata_NCBI_Gene_ID_y, Length: 82483, dtype: float64"
      ]
     },
     "execution_count": 9,
     "metadata": {},
     "output_type": "execute_result"
    }
   ],
   "source": [
    "# there are duplicate columns of NCBI_Gene_ID and the Symbol and the columns with the NaN are dropped\n",
    "# orf_df['Metadata_NCBI_Gene_ID_y'] has NaN and it is dropped\n",
    "orf_df['Metadata_NCBI_Gene_ID_y']"
   ]
  },
  {
   "cell_type": "code",
   "execution_count": 10,
   "metadata": {},
   "outputs": [
    {
     "data": {
      "text/plain": [
       "True"
      ]
     },
     "execution_count": 10,
     "metadata": {},
     "output_type": "execute_result"
    }
   ],
   "source": [
    "orf_df['Metadata_NCBI_Gene_ID_y'].isnull().all()"
   ]
  },
  {
   "cell_type": "code",
   "execution_count": 33,
   "metadata": {},
   "outputs": [],
   "source": [
    "orf_df = orf_df.drop(['Metadata_NCBI_Gene_ID_y'], axis=1)"
   ]
  },
  {
   "cell_type": "code",
   "execution_count": 11,
   "metadata": {},
   "outputs": [
    {
     "data": {
      "text/plain": [
       "True"
      ]
     },
     "execution_count": 11,
     "metadata": {},
     "output_type": "execute_result"
    }
   ],
   "source": [
    "# orf_df['Metadata_Symbol_y'] has NaN and it is dropped\n",
    "orf_df['Metadata_Symbol_y'].isnull().all()"
   ]
  },
  {
   "cell_type": "code",
   "execution_count": 12,
   "metadata": {},
   "outputs": [
    {
     "data": {
      "text/plain": [
       "True"
      ]
     },
     "execution_count": 12,
     "metadata": {},
     "output_type": "execute_result"
    }
   ],
   "source": [
    "# orf_df['Metadata_Symbol'] has NaN and it is dropped\n",
    "orf_df['Metadata_Symbol'].isnull().all()"
   ]
  },
  {
   "cell_type": "code",
   "execution_count": 50,
   "metadata": {},
   "outputs": [],
   "source": [
    "orf_df = orf_df.drop(['Metadata_Symbol_y', 'Metadata_Symbol'], axis=1)"
   ]
  },
  {
   "cell_type": "code",
   "execution_count": 51,
   "metadata": {},
   "outputs": [
    {
     "data": {
      "text/plain": [
       "(82483, 256)"
      ]
     },
     "execution_count": 51,
     "metadata": {},
     "output_type": "execute_result"
    }
   ],
   "source": [
    "orf_df.shape"
   ]
  },
  {
   "cell_type": "code",
   "execution_count": 52,
   "metadata": {},
   "outputs": [],
   "source": [
    "#Renaming the ['Metadata_Symbol_y'] and ['Metadata_NCBI_Gene_ID_y'] to be used in the further steps \n",
    "orf_df = orf_df.rename(columns={'Metadata_NCBI_Gene_ID_x':'Metadata_NCBI_Gene_ID', 'Metadata_Symbol_x':'Metadata_Symbol'})"
   ]
  },
  {
   "cell_type": "code",
   "execution_count": 55,
   "metadata": {},
   "outputs": [
    {
     "data": {
      "text/plain": [
       "(82483, 256)"
      ]
     },
     "execution_count": 55,
     "metadata": {},
     "output_type": "execute_result"
    }
   ],
   "source": [
    "orf_df.shape"
   ]
  },
  {
   "cell_type": "code",
   "execution_count": 56,
   "metadata": {},
   "outputs": [],
   "source": [
    "orf_df.to_parquet('C:\\\\Users\\\\ssivagur\\\\Documents\\\\GitHub\\\\ssivagur\\\\FeatureSpaceIntegration\\\\CRISPRPipelineValidation\\\\profiles_ORF.parquet')"
   ]
  },
  {
   "cell_type": "markdown",
   "metadata": {},
   "source": [
    "#### Add annotations - I did not run this since the profiles that I have already has the annotations in it"
   ]
  },
  {
   "cell_type": "code",
   "execution_count": 4,
   "metadata": {},
   "outputs": [
    {
     "data": {
      "text/plain": [
       "(81660, 750)"
      ]
     },
     "execution_count": 4,
     "metadata": {},
     "output_type": "execute_result"
    }
   ],
   "source": [
    "#orf_metdata_df = pd.read_csv(\n",
    "    #\"../00.download-and-process-annotations/output/orf_metadata.tsv.gz\", sep=\"\\t\"\n",
    "#)\n",
    "#compound_metadata_df = pd.read_csv(\n",
    "    #\"../datasets/metadata/compound.csv.gz\", usecols=[\"Metadata_JCP2022\"]\n",
    "#).#assign(\n",
    "    #Metadata_pert_type=lambda x: np.where(\n",
    "     #   x[\"Metadata_JCP2022\"] == \"JCP2022_999999\", \"empty\", \"poscon\"\n",
    " #   )\n",
    "#)\n",
    "\n",
    "#metadata_df = pd.concat(\n",
    " #   [\n",
    "        #orf_metdata_df,\n",
    "        #compound_metadata_df\n",
    "  #  ],\n",
    "    #join=\"outer\",\n",
    "    #ignore_index=True,\n",
    "#)\n",
    "\n",
    "#orf_df = orf_df.merge(metadata_df, on=\"Metadata_JCP2022\", how=\"inner\")\n",
    "#orf_df.shape"
   ]
  },
  {
   "attachments": {},
   "cell_type": "markdown",
   "metadata": {},
   "source": [
    "#### Remove empty wells"
   ]
  },
  {
   "cell_type": "code",
   "execution_count": 57,
   "metadata": {},
   "outputs": [
    {
     "data": {
      "text/plain": [
       "(81493, 256)"
      ]
     },
     "execution_count": 57,
     "metadata": {},
     "output_type": "execute_result"
    }
   ],
   "source": [
    "orf_df = utils.remove_empty_wells(orf_df)\n",
    "orf_df.shape"
   ]
  },
  {
   "cell_type": "markdown",
   "metadata": {},
   "source": [
    "#### Remove `poscon` wells."
   ]
  },
  {
   "cell_type": "code",
   "execution_count": 58,
   "metadata": {},
   "outputs": [
    {
     "data": {
      "text/plain": [
       "(79563, 256)"
      ]
     },
     "execution_count": 58,
     "metadata": {},
     "output_type": "execute_result"
    }
   ],
   "source": [
    "orf_df = orf_df.query('Metadata_pert_type!=\"poscon\"').reset_index(drop=True)\n",
    "orf_df.shape"
   ]
  },
  {
   "cell_type": "markdown",
   "metadata": {},
   "source": [
    "#### Remove `BAD CONSTRUCT` profiles"
   ]
  },
  {
   "cell_type": "code",
   "execution_count": 59,
   "metadata": {},
   "outputs": [
    {
     "data": {
      "text/plain": [
       "(79563, 256)"
      ]
     },
     "execution_count": 59,
     "metadata": {},
     "output_type": "execute_result"
    }
   ],
   "source": [
    "orf_df = orf_df.query('Metadata_broad_sample!=\"BAD CONSTRUCT\"').reset_index(drop=True)\n",
    "orf_df.shape"
   ]
  },
  {
   "attachments": {},
   "cell_type": "markdown",
   "metadata": {},
   "source": [
    "#### Remove featues with `nan` values.\n",
    "These need to be removed as the `nan` values will cause the mean average precision calculation to fail."
   ]
  },
  {
   "cell_type": "code",
   "execution_count": 60,
   "metadata": {},
   "outputs": [
    {
     "name": "stdout",
     "output_type": "stream",
     "text": [
      "Removed nan features: []\n"
     ]
    }
   ],
   "source": [
    "orf_df = utils.remove_nan_features(orf_df)"
   ]
  },
  {
   "cell_type": "markdown",
   "metadata": {},
   "source": [
    "#### Remove low infection effiency wells"
   ]
  },
  {
   "cell_type": "code",
   "execution_count": 61,
   "metadata": {},
   "outputs": [
    {
     "data": {
      "text/plain": [
       "(72345, 257)"
      ]
     },
     "execution_count": 61,
     "metadata": {},
     "output_type": "execute_result"
    }
   ],
   "source": [
    "# Add platemap name\n",
    "\n",
    "platemap_df = pd.read_csv(\n",
    "    \"../00.download-and-process-annotations/input/experiment-metadata.tsv\",\n",
    "    sep=\"\\t\",\n",
    "    usecols=[\"Plate_Map_Name\", \"Assay_Plate_Barcode\"],\n",
    ").rename(\n",
    "    columns={\n",
    "        \"Plate_Map_Name\": \"Metadata_plate_map_name\",\n",
    "        \"Assay_Plate_Barcode\": \"Metadata_Plate\",\n",
    "    }\n",
    ")\n",
    "\n",
    "orf_df = orf_df.merge(platemap_df, on=\"Metadata_Plate\", how=\"left\")\n",
    "\n",
    "orf_df = utils.remove_low_infection_efficiency_wells(orf_df)\n",
    "orf_df.shape"
   ]
  },
  {
   "attachments": {},
   "cell_type": "markdown",
   "metadata": {},
   "source": [
    "### Calculate mAP for each ORF perturbation"
   ]
  },
  {
   "cell_type": "code",
   "execution_count": 62,
   "metadata": {},
   "outputs": [],
   "source": [
    "# Adding a new column for negative control\n",
    "orf_df[\"Metadata_negcon\"] = np.where(orf_df[\"Metadata_pert_type\"] == \"negcon\", 1, 0)"
   ]
  },
  {
   "cell_type": "code",
   "execution_count": 63,
   "metadata": {},
   "outputs": [],
   "source": [
    "pos_sameby = [\"Metadata_JCP2022\"]\n",
    "pos_diffby = []\n",
    "neg_sameby = [\"Metadata_Plate\"]\n",
    "neg_diffby = [\"Metadata_negcon\"]"
   ]
  },
  {
   "cell_type": "code",
   "execution_count": 64,
   "metadata": {},
   "outputs": [],
   "source": [
    "metadata_df = utils.get_metadata(orf_df)\n",
    "feature_df = utils.get_featuredata(orf_df)\n",
    "feature_values = feature_df.values"
   ]
  },
  {
   "cell_type": "code",
   "execution_count": 65,
   "metadata": {},
   "outputs": [
    {
     "name": "stderr",
     "output_type": "stream",
     "text": [
      "INFO:2024-08-22 17:36:48,243:copairs:Indexing metadata...\n",
      "INFO:2024-08-22 17:36:48,352:copairs:Finding positive pairs...\n",
      "INFO:2024-08-22 17:36:49,295:copairs:Finding negative pairs...\n",
      "INFO:2024-08-22 17:36:50,336:copairs:Computing positive similarities...\n",
      "INFO:2024-08-22 17:36:52,407:copairs:Computing negative similarities...\n",
      "INFO:2024-08-22 17:36:53,636:copairs:Building rank lists...\n",
      "INFO:2024-08-22 17:36:55,610:copairs:Computing average precision...\n",
      "INFO:2024-08-22 17:36:55,721:copairs:Creating result DataFrame...\n",
      "INFO:2024-08-22 17:36:55,734:copairs:Finished.\n"
     ]
    }
   ],
   "source": [
    "result = average_precision(\n",
    "    metadata_df, feature_values, pos_sameby, pos_diffby, neg_sameby, neg_diffby, batch_size=batch_size\n",
    ")"
   ]
  },
  {
   "cell_type": "code",
   "execution_count": 66,
   "metadata": {},
   "outputs": [],
   "source": [
    "# Remove negcon\n",
    "result = result.query('Metadata_pert_type!=\"negcon\"').reset_index(drop=True)"
   ]
  },
  {
   "cell_type": "code",
   "execution_count": 67,
   "metadata": {},
   "outputs": [
    {
     "name": "stderr",
     "output_type": "stream",
     "text": [
      "INFO:2024-08-22 17:37:18,859:copairs:Computing null_dist...\n",
      "INFO:2024-08-22 17:37:18,928:copairs:Computing p-values...\n",
      "                                                       \r"
     ]
    }
   ],
   "source": [
    "agg_result = (\n",
    "    mean_average_precision(result, pos_sameby, null_size=null_size, threshold=fdr, seed=12527)\n",
    "    .rename(columns={'average_precision': 'mean_average_precision'})\n",
    ")"
   ]
  },
  {
   "cell_type": "code",
   "execution_count": 68,
   "metadata": {},
   "outputs": [],
   "source": [
    "agg_result.to_csv(f\"C:\\\\Users\\\\ssivagur\\\\Documents\\\\GitHub\\\\ssivagur\\\\FeatureSpaceIntegration\\\\CRISPRPipelineValidation\\\\PhenotypicActivity_ORF.csv.gz\", index=False)"
   ]
  }
 ],
 "metadata": {
  "kernelspec": {
   "display_name": "Python 3",
   "language": "python",
   "name": "python3"
  },
  "language_info": {
   "codemirror_mode": {
    "name": "ipython",
    "version": 3
   },
   "file_extension": ".py",
   "mimetype": "text/x-python",
   "name": "python",
   "nbconvert_exporter": "python",
   "pygments_lexer": "ipython3",
   "version": "3.12.2"
  },
  "orig_nbformat": 4,
  "vscode": {
   "interpreter": {
    "hash": "aee8b7b246df8f9039afb4144a1f6fd8d2ca17a180786b69acc140d282b71a49"
   }
  }
 },
 "nbformat": 4,
 "nbformat_minor": 2
}
