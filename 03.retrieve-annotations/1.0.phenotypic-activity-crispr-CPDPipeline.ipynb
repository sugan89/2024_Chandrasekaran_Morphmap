{
 "cells": [
  {
   "cell_type": "code",
   "execution_count": 1,
   "metadata": {},
   "outputs": [
    {
     "name": "stderr",
     "output_type": "stream",
     "text": [
      "c:\\Users\\ssivagur\\Anaconda3\\envs\\copairs\\Lib\\site-packages\\tqdm\\auto.py:21: TqdmWarning: IProgress not found. Please update jupyter and ipywidgets. See https://ipywidgets.readthedocs.io/en/stable/user_install.html\n",
      "  from .autonotebook import tqdm as notebook_tqdm\n"
     ]
    }
   ],
   "source": [
    "import pandas as pd\n",
    "import utils\n",
    "import numpy as np\n",
    "import warnings\n",
    "from tqdm import tqdm\n",
    "from copairs.map import average_precision, mean_average_precision\n",
    "import logging\n",
    "\n",
    "logging.basicConfig(format=\"%(levelname)s:%(asctime)s:%(name)s:%(message)s\")\n",
    "logging.getLogger(\"copairs\").setLevel(logging.INFO)\n",
    "\n",
    "warnings.simplefilter(action=\"ignore\", category=FutureWarning)"
   ]
  },
  {
   "cell_type": "code",
   "execution_count": 2,
   "metadata": {},
   "outputs": [],
   "source": [
    "#operations = \"wellpos_cc_var_mad_outlier_featselect_sphering_harmony_PCA_corrected\"\n",
    "batch_size = 20000\n",
    "null_size = 20000\n",
    "fdr = 0.1"
   ]
  },
  {
   "cell_type": "code",
   "execution_count": 3,
   "metadata": {},
   "outputs": [],
   "source": [
    "# CRISPR controls - did not use this since the profies already has pert_type in it\n",
    "\n",
    "#crispr_controls_df = pd.DataFrame(\n",
    "#    {\n",
    "#        \"Metadata_JCP2022\": [\"JCP2022_805264\", \"JCP2022_800001\", \"JCP2022_800002\"],\n",
    "#        \"Metadata_pert_type\": [\"poscon\", \"negcon\", \"negcon\"],\n",
    "##\n",
    "#    index=[0, 1, 2],\n",
    "#)"
   ]
  },
  {
   "attachments": {},
   "cell_type": "markdown",
   "metadata": {},
   "source": [
    "### Prepare the data"
   ]
  },
  {
   "cell_type": "markdown",
   "metadata": {},
   "source": [
    "#### Filtering the ORF plates from the output file"
   ]
  },
  {
   "cell_type": "code",
   "execution_count": 3,
   "metadata": {},
   "outputs": [],
   "source": [
    "raw_CPD_df = pd.read_parquet('C:\\\\Users\\\\ssivagur\\\\Documents\\\\GitHub\\\\ssivagur\\\\FeatureSpaceIntegration\\\\CPDPipelineValidation\\\\profiles_var_mad_int_featselect_harmony.parquet')"
   ]
  },
  {
   "cell_type": "code",
   "execution_count": 4,
   "metadata": {},
   "outputs": [
    {
     "data": {
      "text/plain": [
       "(950428, 744)"
      ]
     },
     "execution_count": 4,
     "metadata": {},
     "output_type": "execute_result"
    }
   ],
   "source": [
    "raw_CPD_df.shape"
   ]
  },
  {
   "cell_type": "code",
   "execution_count": 5,
   "metadata": {},
   "outputs": [],
   "source": [
    "#filtering \n",
    "crispr_df = raw_CPD_df[raw_CPD_df['Metadata_PlateType'] == 'CRISPR']"
   ]
  },
  {
   "cell_type": "markdown",
   "metadata": {},
   "source": [
    "There are two columns of metadata for 'Metadata_Symbol' in the raw_orf_df - 'Metadata_Symbol_x' and 'Metadata_Symbol_y'. I have to check why there are two columns "
   ]
  },
  {
   "cell_type": "code",
   "execution_count": 6,
   "metadata": {},
   "outputs": [
    {
     "data": {
      "text/plain": [
       "(56821, 744)"
      ]
     },
     "execution_count": 6,
     "metadata": {},
     "output_type": "execute_result"
    }
   ],
   "source": [
    "crispr_df.shape"
   ]
  },
  {
   "cell_type": "code",
   "execution_count": 7,
   "metadata": {},
   "outputs": [],
   "source": [
    "crispr_df_cols = [c for c in crispr_df.columns if c.startswith(\"Metadata_\")]"
   ]
  },
  {
   "cell_type": "code",
   "execution_count": 8,
   "metadata": {},
   "outputs": [
    {
     "data": {
      "text/plain": [
       "['Metadata_Source',\n",
       " 'Metadata_Plate',\n",
       " 'Metadata_Well',\n",
       " 'Metadata_JCP2022',\n",
       " 'Metadata_broad_sample',\n",
       " 'Metadata_Name',\n",
       " 'Metadata_Vector',\n",
       " 'Metadata_Transcript',\n",
       " 'Metadata_Symbol_x',\n",
       " 'Metadata_NCBI_Gene_ID_x',\n",
       " 'Metadata_Taxon_ID',\n",
       " 'Metadata_Gene_Description',\n",
       " 'Metadata_Prot_Match',\n",
       " 'Metadata_Insert_Length',\n",
       " 'Metadata_pert_type',\n",
       " 'Metadata_NCBI_Gene_ID_y',\n",
       " 'Metadata_Symbol_y',\n",
       " 'Metadata_Batch',\n",
       " 'Metadata_PlateType',\n",
       " 'Metadata_Row',\n",
       " 'Metadata_Column',\n",
       " 'Metadata_Microscope']"
      ]
     },
     "execution_count": 8,
     "metadata": {},
     "output_type": "execute_result"
    }
   ],
   "source": [
    "crispr_df_cols"
   ]
  },
  {
   "cell_type": "code",
   "execution_count": 9,
   "metadata": {},
   "outputs": [
    {
     "data": {
      "text/plain": [
       "428536    NaN\n",
       "428537    NaN\n",
       "428538    NaN\n",
       "428539    NaN\n",
       "428540    NaN\n",
       "         ... \n",
       "487635    NaN\n",
       "487636    NaN\n",
       "487637    NaN\n",
       "487638    NaN\n",
       "487639    NaN\n",
       "Name: Metadata_NCBI_Gene_ID_x, Length: 56821, dtype: category\n",
       "Categories (12602, object): ['1', '10', '100', '10000', ..., 'XLOC_l2_015578', 'XLOC_l2_015600', 'XLOC_l2_015937', 'eGFP']"
      ]
     },
     "execution_count": 9,
     "metadata": {},
     "output_type": "execute_result"
    }
   ],
   "source": [
    "crispr_df['Metadata_NCBI_Gene_ID_x']"
   ]
  },
  {
   "cell_type": "code",
   "execution_count": 10,
   "metadata": {},
   "outputs": [
    {
     "data": {
      "text/plain": [
       "428536    NaN\n",
       "428537    NaN\n",
       "428538    NaN\n",
       "428539    NaN\n",
       "428540    NaN\n",
       "         ... \n",
       "487635    NaN\n",
       "487636    NaN\n",
       "487637    NaN\n",
       "487638    NaN\n",
       "487639    NaN\n",
       "Name: Metadata_Symbol_x, Length: 56821, dtype: category\n",
       "Categories (12602, object): ['A1BG', 'A1CF', 'A2M', 'A4GALT', ..., 'ZYG11B', 'ZYX', 'ZZZ3', 'eGFP']"
      ]
     },
     "execution_count": 10,
     "metadata": {},
     "output_type": "execute_result"
    }
   ],
   "source": [
    "crispr_df['Metadata_Symbol_x']"
   ]
  },
  {
   "cell_type": "code",
   "execution_count": 11,
   "metadata": {},
   "outputs": [],
   "source": [
    "#dropping the columns ['Metadata_Symbol_x'] and ['Metadata_NCBI_Gene_ID_x'] since they have NaNs\n",
    "crispr_df = crispr_df.drop(['Metadata_Symbol_x', 'Metadata_NCBI_Gene_ID_x'], axis=1)"
   ]
  },
  {
   "cell_type": "code",
   "execution_count": 12,
   "metadata": {},
   "outputs": [],
   "source": [
    "#renaming the ['Metadata_Symbol_y'] and ['Metadata_NCBI_Gene_ID_y'] to be used downstream \n",
    "crispr_df = crispr_df.rename(columns={'Metadata_NCBI_Gene_ID_y':'Metadata_NCBI_Gene_ID', 'Metadata_Symbol_y':'Metadata_Symbol'})"
   ]
  },
  {
   "cell_type": "code",
   "execution_count": 13,
   "metadata": {},
   "outputs": [
    {
     "data": {
      "text/plain": [
       "(56821, 742)"
      ]
     },
     "execution_count": 13,
     "metadata": {},
     "output_type": "execute_result"
    }
   ],
   "source": [
    "crispr_df.shape"
   ]
  },
  {
   "cell_type": "code",
   "execution_count": 14,
   "metadata": {},
   "outputs": [],
   "source": [
    "crispr_df.to_parquet('C:\\\\Users\\\\ssivagur\\\\Documents\\\\GitHub\\\\ssivagur\\\\FeatureSpaceIntegration\\\\CPDPipelineValidation\\\\profiles_crispr.parquet')"
   ]
  },
  {
   "cell_type": "markdown",
   "metadata": {},
   "source": [
    "The size of the original file is (51185, 263)"
   ]
  },
  {
   "cell_type": "markdown",
   "metadata": {},
   "source": [
    "#### Add annotations - not running this since the profiles alreayd has the metadata in it "
   ]
  },
  {
   "cell_type": "code",
   "execution_count": 11,
   "metadata": {},
   "outputs": [
    {
     "data": {
      "text/plain": [
       "(56821, 651)"
      ]
     },
     "execution_count": 11,
     "metadata": {},
     "output_type": "execute_result"
    }
   ],
   "source": [
    "#    pd.read_csv(\n",
    "#        \"../00.download-and-process-annotations/output/crispr_metadata.tsv.gz\", sep=\"\\t\"\n",
    "#    )\n",
    "#   .merge(crispr_controls_df, on=\"Metadata_JCP2022\", how=\"left\")\n",
    "#    .fillna(value={\"Metadata_pert_type\": \"trt\"})\n",
    "#)\n",
    "#compound_metadata_df = pd.read_csv(\n",
    "#    \"../datasets/metadata/compound.csv.gz\", usecols=[\"Metadata_JCP2022\"]\n",
    "#).assign(\n",
    "#    Metadata_pert_type=lambda x: np.where(\n",
    "#        x[\"Metadata_JCP2022\"] == \"JCP2022_999999\", \"empty\", \"poscon\"\n",
    "#    )\n",
    "#)\n",
    "\n",
    "#metadata_df = pd.concat(\n",
    "#    [crispr_metdata_df, compound_metadata_df],\n",
    "#    join=\"outer\",\n",
    "#    ignore_index=True,\n",
    "#)\n",
    "\n",
    "#crispr_df = crispr_df.merge(metadata_df, on=\"Metadata_JCP2022\", how=\"inner\")\n",
    "#crispr_df.shape"
   ]
  },
  {
   "cell_type": "markdown",
   "metadata": {},
   "source": [
    "#### Remove `poscon` wells."
   ]
  },
  {
   "cell_type": "code",
   "execution_count": 15,
   "metadata": {},
   "outputs": [
    {
     "data": {
      "text/plain": [
       "(51744, 742)"
      ]
     },
     "execution_count": 15,
     "metadata": {},
     "output_type": "execute_result"
    }
   ],
   "source": [
    "crispr_df = crispr_df.query('Metadata_pert_type!=\"poscon\"').reset_index(drop=True)\n",
    "crispr_df.shape"
   ]
  },
  {
   "attachments": {},
   "cell_type": "markdown",
   "metadata": {},
   "source": [
    "#### Remove featues with `nan` values.\n",
    "These need to be removed as the `nan` values will cause the mean average precision calculation to fail."
   ]
  },
  {
   "cell_type": "code",
   "execution_count": 16,
   "metadata": {},
   "outputs": [
    {
     "name": "stdout",
     "output_type": "stream",
     "text": [
      "Removed nan features: []\n"
     ]
    },
    {
     "data": {
      "text/plain": [
       "(51744, 742)"
      ]
     },
     "execution_count": 16,
     "metadata": {},
     "output_type": "execute_result"
    }
   ],
   "source": [
    "crispr_df = utils.remove_nan_features(crispr_df)\n",
    "crispr_df.shape"
   ]
  },
  {
   "cell_type": "markdown",
   "metadata": {},
   "source": [
    "#### Remove reagents with only one replicate"
   ]
  },
  {
   "cell_type": "code",
   "execution_count": 17,
   "metadata": {},
   "outputs": [
    {
     "data": {
      "text/plain": [
       "['JCP2022_807435', 'JCP2022_803433', 'JCP2022_807044']"
      ]
     },
     "execution_count": 17,
     "metadata": {},
     "output_type": "execute_result"
    }
   ],
   "source": [
    "crispr_df.Metadata_JCP2022.value_counts()[\n",
    "        crispr_df.Metadata_JCP2022.value_counts() == 1\n",
    "    ].reset_index()['Metadata_JCP2022'].tolist()"
   ]
  },
  {
   "cell_type": "code",
   "execution_count": 18,
   "metadata": {},
   "outputs": [],
   "source": [
    "#changed the code to the column name\n",
    "reagents_with_one_replicate = (\n",
    "    crispr_df.Metadata_JCP2022.value_counts()[\n",
    "        crispr_df.Metadata_JCP2022.value_counts() == 1\n",
    "    ]\n",
    "    .reset_index()[\"Metadata_JCP2022\"] #.reset_index()[\"index\"]\n",
    "    .tolist()\n",
    ")\n"
   ]
  },
  {
   "cell_type": "code",
   "execution_count": 19,
   "metadata": {},
   "outputs": [
    {
     "data": {
      "text/plain": [
       "(51741, 742)"
      ]
     },
     "execution_count": 19,
     "metadata": {},
     "output_type": "execute_result"
    }
   ],
   "source": [
    "\n",
    "crispr_df = crispr_df[~crispr_df.Metadata_JCP2022.isin(reagents_with_one_replicate)]\n",
    "crispr_df.shape"
   ]
  },
  {
   "attachments": {},
   "cell_type": "markdown",
   "metadata": {},
   "source": [
    "### Calculate mAP for each ORF perturbation"
   ]
  },
  {
   "cell_type": "code",
   "execution_count": 20,
   "metadata": {},
   "outputs": [],
   "source": [
    "# Adding a new column for negative control\n",
    "crispr_df[\"Metadata_negcon\"] = np.where(crispr_df[\"Metadata_pert_type\"] == \"negcon\", 1, 0)"
   ]
  },
  {
   "cell_type": "code",
   "execution_count": 21,
   "metadata": {},
   "outputs": [],
   "source": [
    "pos_sameby = [\"Metadata_JCP2022\"]\n",
    "pos_diffby = []\n",
    "neg_sameby = [\"Metadata_Plate\"]\n",
    "neg_diffby = [\"Metadata_negcon\"]"
   ]
  },
  {
   "cell_type": "code",
   "execution_count": 22,
   "metadata": {},
   "outputs": [],
   "source": [
    "metadata_df = utils.get_metadata(crispr_df)\n",
    "feature_df = utils.get_featuredata(crispr_df)\n",
    "feature_values = feature_df.values"
   ]
  },
  {
   "cell_type": "code",
   "execution_count": 23,
   "metadata": {},
   "outputs": [
    {
     "name": "stderr",
     "output_type": "stream",
     "text": [
      "INFO:2024-08-15 19:45:46,358:copairs:Indexing metadata...\n",
      "INFO:2024-08-15 19:45:46,503:copairs:Finding positive pairs...\n",
      "INFO:2024-08-15 19:45:57,945:copairs:Finding negative pairs...\n",
      "INFO:2024-08-15 19:45:59,431:copairs:Computing positive similarities...\n",
      "INFO:2024-08-15 19:47:04,499:copairs:Computing negative similarities...\n",
      "INFO:2024-08-15 19:47:10,912:copairs:Building rank lists...\n",
      "INFO:2024-08-15 19:47:49,583:copairs:Computing average precision...\n",
      "INFO:2024-08-15 19:47:50,497:copairs:Creating result DataFrame...\n",
      "INFO:2024-08-15 19:47:50,506:copairs:Finished.\n"
     ]
    }
   ],
   "source": [
    "result = average_precision(\n",
    "    metadata_df, feature_values, pos_sameby, pos_diffby, neg_sameby, neg_diffby, batch_size=batch_size\n",
    ")"
   ]
  },
  {
   "cell_type": "code",
   "execution_count": 24,
   "metadata": {},
   "outputs": [],
   "source": [
    "# Remove negcon\n",
    "result = result.query('Metadata_pert_type!=\"negcon\"').reset_index(drop=True)"
   ]
  },
  {
   "cell_type": "code",
   "execution_count": 25,
   "metadata": {},
   "outputs": [
    {
     "name": "stderr",
     "output_type": "stream",
     "text": [
      "INFO:2024-08-15 19:49:40,266:copairs:Computing null_dist...\n",
      "INFO:2024-08-15 19:49:40,388:copairs:Computing p-values...\n",
      "                                                     \r"
     ]
    }
   ],
   "source": [
    "agg_result = (\n",
    "    mean_average_precision(result, pos_sameby, null_size=null_size, threshold=fdr, seed=12527)\n",
    "    .rename(columns={'average_precision': 'mean_average_precision'})\n",
    ")"
   ]
  },
  {
   "cell_type": "code",
   "execution_count": 26,
   "metadata": {},
   "outputs": [],
   "source": [
    "agg_result.to_csv(f\"C:\\\\Users\\\\ssivagur\\\\Documents\\\\GitHub\\\\ssivagur\\\\FeatureSpaceIntegration\\\\CPDPipelineValidation\\\\PhenotypicActivity_CRISPR.csv.gz\", index=False)"
   ]
  }
 ],
 "metadata": {
  "kernelspec": {
   "display_name": "Python 3",
   "language": "python",
   "name": "python3"
  },
  "language_info": {
   "codemirror_mode": {
    "name": "ipython",
    "version": 3
   },
   "file_extension": ".py",
   "mimetype": "text/x-python",
   "name": "python",
   "nbconvert_exporter": "python",
   "pygments_lexer": "ipython3",
   "version": "3.12.2"
  },
  "orig_nbformat": 4,
  "vscode": {
   "interpreter": {
    "hash": "aee8b7b246df8f9039afb4144a1f6fd8d2ca17a180786b69acc140d282b71a49"
   }
  }
 },
 "nbformat": 4,
 "nbformat_minor": 2
}
