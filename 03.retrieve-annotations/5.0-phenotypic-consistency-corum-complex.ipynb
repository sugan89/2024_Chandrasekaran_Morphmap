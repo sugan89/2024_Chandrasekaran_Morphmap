{
 "cells": [
  {
   "cell_type": "code",
   "execution_count": 1,
   "metadata": {},
   "outputs": [
    {
     "name": "stderr",
     "output_type": "stream",
     "text": [
      "c:\\Users\\ssivagur\\Anaconda3\\envs\\copairs\\Lib\\site-packages\\tqdm\\auto.py:21: TqdmWarning: IProgress not found. Please update jupyter and ipywidgets. See https://ipywidgets.readthedocs.io/en/stable/user_install.html\n",
      "  from .autonotebook import tqdm as notebook_tqdm\n"
     ]
    }
   ],
   "source": [
    "import pandas as pd\n",
    "import utils\n",
    "import numpy as np\n",
    "import warnings\n",
    "from tqdm import tqdm\n",
    "from copairs.map import mean_average_precision, multilabel\n",
    "import logging"
   ]
  },
  {
   "cell_type": "code",
   "execution_count": 2,
   "metadata": {},
   "outputs": [],
   "source": [
    "#all_profiles = {\n",
    "#    \"ORF\": \"c:\\\\Users\\\\ssivagur\\\\Documents\\\\GitHub\\\\ssivagur\\\\FeatureSpaceIntegration\\\\ORFValidation\\\\profiles_ORF\",\n",
    "#    \"CRISPR\": \"c:\\\\Users\\\\ssivagur\\\\Documents\\\\GitHub\\ssivagur\\\\FeatureSpaceIntegration\\\\ORFValidation\\\\profiles_CRISPR\",\n",
    "#}\n",
    "\n",
    "retrieval_label = \"corum_complex\"\n",
    "multi_label_col = \"Metadata_corum_complex_list\"\n",
    "annotation_col = \"Metadata_complexname\"\n",
    "\n",
    "\n",
    "batch_size = 20000\n",
    "null_size = 20000\n",
    "fdr = 0.05\n",
    "\n",
    "pos_sameby = [f\"{multi_label_col}\"]\n",
    "pos_diffby = []\n",
    "neg_sameby = []\n",
    "neg_diffby = [f\"{multi_label_col}\"]"
   ]
  },
  {
   "cell_type": "markdown",
   "metadata": {},
   "source": [
    "### ORF"
   ]
  },
  {
   "cell_type": "code",
   "execution_count": 5,
   "metadata": {},
   "outputs": [],
   "source": [
    "orf_profiles = pd.read_parquet('c:\\\\Users\\\\ssivagur\\\\Documents\\\\GitHub\\\\ssivagur\\\\FeatureSpaceIntegration\\\\ORFValidation\\\\profiles_ORF.parquet')\n",
    "orf_PhenotypicActivity = pd.read_csv('c:\\\\Users\\\\ssivagur\\\\Documents\\\\GitHub\\\\ssivagur\\\\FeatureSpaceIntegration\\\\ORFValidation\\\\PhenotypicActivity_ORF.csv.gz', compression='gzip')"
   ]
  },
  {
   "cell_type": "markdown",
   "metadata": {},
   "source": [
    "Read protein class annotations"
   ]
  },
  {
   "cell_type": "code",
   "execution_count": 23,
   "metadata": {},
   "outputs": [],
   "source": [
    "orf_annotation_df = (\n",
    "    pd.read_csv(\n",
    "        \"../00.download-and-process-annotations/output/orf_metadata.tsv.gz\", sep=\"\\t\"\n",
    "    )[[\"Metadata_JCP2022\",f\"{annotation_col}\"]]\n",
    "    .dropna()\n",
    "    .assign(col=lambda x: list(x[f\"{annotation_col}\"].str.split(\"|\")))\n",
    "    .rename(columns={\"col\": f\"{multi_label_col}\"})\n",
    ")"
   ]
  },
  {
   "cell_type": "code",
   "execution_count": 34,
   "metadata": {},
   "outputs": [],
   "source": [
    "df = orf_profiles\n",
    "phenotypic_activity_df = orf_PhenotypicActivity.query(\"below_corrected_p==True\")\n"
   ]
  },
  {
   "cell_type": "code",
   "execution_count": 26,
   "metadata": {},
   "outputs": [],
   "source": [
    "df = df.merge(phenotypic_activity_df, on=\"Metadata_JCP2022\", how=\"inner\")"
   ]
  },
  {
   "cell_type": "code",
   "execution_count": 27,
   "metadata": {},
   "outputs": [],
   "source": [
    "df = df.merge(orf_annotation_df, on=\"Metadata_JCP2022\", how=\"inner\")"
   ]
  },
  {
   "cell_type": "code",
   "execution_count": 28,
   "metadata": {},
   "outputs": [
    {
     "name": "stderr",
     "output_type": "stream",
     "text": [
      "c:\\Users\\ssivagur\\Documents\\GitHub\\2024_Chandrasekaran_Morphmap\\03.retrieve-annotations\\utils.py:104: FutureWarning: The default of observed=False is deprecated and will be changed to True in a future version of pandas. Pass observed=False to retain current behavior or observed=True to adopt the future default and silence this warning.\n",
      "  profiles_df[feature_cols].groupby([group_by_feature]).median().reset_index()\n",
      "                                                      \r"
     ]
    }
   ],
   "source": [
    "consensus_df = utils.consensus(df, \"Metadata_NCBI_Gene_ID\")\n",
    "\n",
    "metadata_df = utils.get_metadata(consensus_df)\n",
    "feature_df = utils.get_featuredata(consensus_df)\n",
    "feature_values = feature_df.values\n",
    "\n",
    "result = multilabel.average_precision(\n",
    "        metadata_df,\n",
    "        feature_values,\n",
    "        pos_sameby,\n",
    "        pos_diffby,\n",
    "        neg_sameby,\n",
    "        neg_diffby,\n",
    "        batch_size=batch_size,\n",
    "        multilabel_col=multi_label_col,\n",
    "    )\n",
    "\n",
    "agg_result = mean_average_precision(\n",
    "        result, pos_sameby, null_size, threshold=0.05, seed=12527\n",
    "    )\n",
    "\n",
    "    #agg_result[\"Modality\"] = modality\n",
    "\n",
    "    #map_df = pd.concat([map_df, agg_result], ignore_index=True)\n",
    "\n",
    "    #map_df.to_parquet(f\"output/{retrieval_label}_retrieval.parquet\")"
   ]
  },
  {
   "cell_type": "code",
   "execution_count": 30,
   "metadata": {},
   "outputs": [],
   "source": [
    "agg_result.to_csv('C:\\\\Users\\\\ssivagur\\\\Documents\\\\GitHub\\\\ssivagur\\\\FeatureSpaceIntegration\\\\ORFValidation\\\\mAP_Corum.csv')"
   ]
  },
  {
   "cell_type": "markdown",
   "metadata": {},
   "source": [
    "### CRISPR"
   ]
  },
  {
   "cell_type": "code",
   "execution_count": 31,
   "metadata": {},
   "outputs": [],
   "source": [
    "#These details are already available in the profiles hence I am not using them now \n",
    "#crispr_controls_df = pd.DataFrame(\n",
    "#    {\n",
    "#        \"Metadata_JCP2022\": [\"JCP2022_805264\", \"JCP2022_800001\", \"JCP2022_800002\"],\n",
    "#        \"Metadata_pert_type\": [\"poscon\", \"negcon\", \"negcon\"],\n",
    "#    },\n",
    "#    index=[0, 1, 2],\n",
    "#)\n",
    "\n",
    "crispr_annotation_df = (\n",
    "    pd.read_csv(\n",
    "        \"../00.download-and-process-annotations/output/crispr_metadata.tsv.gz\", sep=\"\\t\"\n",
    "    )[[\"Metadata_JCP2022\", f\"{annotation_col}\"]]\n",
    "    .dropna()\n",
    "    .assign(col=lambda x: list(x[f\"{annotation_col}\"].str.split(\"|\")))\n",
    "    .rename(columns={\"col\": f\"{multi_label_col}\"})\n",
    ")"
   ]
  },
  {
   "cell_type": "code",
   "execution_count": 32,
   "metadata": {},
   "outputs": [],
   "source": [
    "crispr_df = pd.read_parquet('c:\\\\Users\\\\ssivagur\\\\Documents\\\\GitHub\\\\ssivagur\\\\FeatureSpaceIntegration\\\\ORFValidation\\\\profiles_crispr.parquet')\n",
    "phenotypic_activity_crispr_df = pd.read_csv('c:\\\\Users\\\\ssivagur\\\\Documents\\\\GitHub\\\\ssivagur\\\\FeatureSpaceIntegration\\\\ORFValidation\\\\PhenotypicActivity_CRISPR.csv.gz')"
   ]
  },
  {
   "cell_type": "code",
   "execution_count": 35,
   "metadata": {},
   "outputs": [],
   "source": [
    "phenotypic_activity_crispr_df = phenotypic_activity_crispr_df.query(\"below_corrected_p==True\")"
   ]
  },
  {
   "cell_type": "code",
   "execution_count": 36,
   "metadata": {},
   "outputs": [],
   "source": [
    "crispr_df = crispr_df.merge(phenotypic_activity_crispr_df, on=\"Metadata_JCP2022\", how=\"inner\")\n"
   ]
  },
  {
   "cell_type": "code",
   "execution_count": 37,
   "metadata": {},
   "outputs": [],
   "source": [
    "crispr_df = crispr_df.merge(\n",
    "            crispr_annotation_df,\n",
    "            on=\"Metadata_JCP2022\",\n",
    "            how=\"inner\",\n",
    "        )"
   ]
  },
  {
   "cell_type": "code",
   "execution_count": 38,
   "metadata": {},
   "outputs": [
    {
     "name": "stderr",
     "output_type": "stream",
     "text": [
      "                                                     \r"
     ]
    }
   ],
   "source": [
    "consensus_df_crispr = utils.consensus(crispr_df, \"Metadata_NCBI_Gene_ID\")\n",
    "\n",
    "metadata_df_crispr = utils.get_metadata(consensus_df_crispr)\n",
    "feature_df_crispr = utils.get_featuredata(consensus_df_crispr)\n",
    "feature_values_crispr = feature_df_crispr.values\n",
    "\n",
    "result_crispr = multilabel.average_precision(\n",
    "        metadata_df_crispr,\n",
    "        feature_values_crispr,\n",
    "        pos_sameby,\n",
    "        pos_diffby,\n",
    "        neg_sameby,\n",
    "        neg_diffby,\n",
    "        batch_size=batch_size,\n",
    "        multilabel_col=multi_label_col,\n",
    "    )\n",
    "\n",
    "agg_result_crispr = mean_average_precision(\n",
    "        result_crispr, pos_sameby, null_size, threshold=0.05, seed=12527\n",
    "    )"
   ]
  },
  {
   "cell_type": "code",
   "execution_count": 39,
   "metadata": {},
   "outputs": [],
   "source": [
    "agg_result_crispr.to_csv('C:\\\\Users\\\\ssivagur\\\\Documents\\\\GitHub\\\\ssivagur\\\\FeatureSpaceIntegration\\\\ORFValidation\\\\mAP_Corum_CRISPR.csv')"
   ]
  },
  {
   "cell_type": "code",
   "execution_count": 40,
   "metadata": {},
   "outputs": [
    {
     "name": "stderr",
     "output_type": "stream",
     "text": [
      "<>:3: SyntaxWarning: invalid escape sequence '\\s'\n",
      "<>:3: SyntaxWarning: invalid escape sequence '\\s'\n",
      "C:\\Users\\ssivagur\\AppData\\Local\\Temp\\ipykernel_26604\\401110882.py:3: SyntaxWarning: invalid escape sequence '\\s'\n",
      "  \"CRISPR\": \"c:\\\\Users\\\\ssivagur\\\\Documents\\\\GitHub\\ssivagur\\\\FeatureSpaceIntegration\\\\ORFValidation\\\\profiles_CRISPR.parquet\",\n"
     ]
    }
   ],
   "source": [
    "all_profiles = {\n",
    "    \"ORF\": \"c:\\\\Users\\\\ssivagur\\\\Documents\\\\GitHub\\\\ssivagur\\\\FeatureSpaceIntegration\\\\ORFValidation\\\\profiles_ORF.parquet\",\n",
    "    \"CRISPR\": \"c:\\\\Users\\\\ssivagur\\\\Documents\\\\GitHub\\ssivagur\\\\FeatureSpaceIntegration\\\\ORFValidation\\\\profiles_CRISPR.parquet\",\n",
    "}\n"
   ]
  },
  {
   "cell_type": "code",
   "execution_count": 41,
   "metadata": {},
   "outputs": [
    {
     "name": "stdout",
     "output_type": "stream",
     "text": [
      "Modality: ORF\n"
     ]
    },
    {
     "name": "stderr",
     "output_type": "stream",
     "text": [
      "c:\\Users\\ssivagur\\Documents\\GitHub\\2024_Chandrasekaran_Morphmap\\03.retrieve-annotations\\utils.py:104: FutureWarning: The default of observed=False is deprecated and will be changed to True in a future version of pandas. Pass observed=False to retain current behavior or observed=True to adopt the future default and silence this warning.\n",
      "  profiles_df[feature_cols].groupby([group_by_feature]).median().reset_index()\n",
      "                                                     \r"
     ]
    },
    {
     "name": "stdout",
     "output_type": "stream",
     "text": [
      "Modality: CRISPR\n"
     ]
    },
    {
     "name": "stderr",
     "output_type": "stream",
     "text": [
      "                                                     \r"
     ]
    }
   ],
   "source": [
    "map_df = pd.DataFrame()\n",
    "\n",
    "for modality in all_profiles:\n",
    "    print(f\"Modality: {modality}\")\n",
    "    parquet_file_name = f\"profiles_{modality}.parquet\"\n",
    "    phenotypic_activity_file_name = f\"PhenotypicActivity_{modality}.csv.gz\"\n",
    "\n",
    "    df = pd.read_parquet(f\"c:\\\\Users\\\\ssivagur\\\\Documents\\\\GitHub\\\\ssivagur\\\\FeatureSpaceIntegration\\\\ORFValidation\\\\{parquet_file_name}\")\n",
    "    phenotypic_activity_df = pd.read_csv(\n",
    "        f\"c:\\\\Users\\\\ssivagur\\\\Documents\\\\GitHub\\\\ssivagur\\\\FeatureSpaceIntegration\\\\ORFValidation\\\\{phenotypic_activity_file_name}\"\n",
    "    ).query(\"below_corrected_p==True\")\n",
    "    df = df.merge(phenotypic_activity_df, on=\"Metadata_JCP2022\", how=\"inner\")\n",
    "\n",
    "    if modality == \"ORF\":\n",
    "        df = df.merge(\n",
    "            orf_annotation_df,\n",
    "            on=\"Metadata_JCP2022\",\n",
    "            how=\"inner\",\n",
    "        )\n",
    "    elif modality == \"CRISPR\":\n",
    "        df = df.merge(\n",
    "            crispr_annotation_df,\n",
    "            on=\"Metadata_JCP2022\",\n",
    "            how=\"inner\",\n",
    "        )\n",
    "\n",
    "\n",
    "    consensus_df = utils.consensus(df, \"Metadata_NCBI_Gene_ID\")\n",
    "\n",
    "    metadata_df = utils.get_metadata(consensus_df)\n",
    "    feature_df = utils.get_featuredata(consensus_df)\n",
    "    feature_values = feature_df.values\n",
    "\n",
    "    result = multilabel.average_precision(\n",
    "        metadata_df,\n",
    "        feature_values,\n",
    "        pos_sameby,\n",
    "        pos_diffby,\n",
    "        neg_sameby,\n",
    "        neg_diffby,\n",
    "        batch_size=batch_size,\n",
    "        multilabel_col=multi_label_col,\n",
    "    )\n",
    "\n",
    "    agg_result = mean_average_precision(\n",
    "        result, pos_sameby, null_size, threshold=0.05, seed=12527\n",
    "    )\n",
    "\n",
    "    agg_result[\"Modality\"] = modality\n",
    "\n",
    "    map_df = pd.concat([map_df, agg_result], ignore_index=True)\n",
    "\n",
    "    map_df.to_parquet(f\"output/{retrieval_label}_retrieval.parquet\")"
   ]
  },
  {
   "cell_type": "code",
   "execution_count": 42,
   "metadata": {},
   "outputs": [],
   "source": [
    "map_df.to_parquet(f'c:\\\\Users\\\\ssivagur\\\\Documents\\\\GitHub\\\\ssivagur\\\\FeatureSpaceIntegration\\\\ORFValidation\\\\{retrieval_label}_retrieval.parquet')"
   ]
  },
  {
   "cell_type": "code",
   "execution_count": null,
   "metadata": {},
   "outputs": [],
   "source": [
    "crispr_controls_df = pd.DataFrame(\n",
    "    {\n",
    "        \"Metadata_JCP2022\": [\"JCP2022_805264\", \"JCP2022_800001\", \"JCP2022_800002\"],\n",
    "        \"Metadata_pert_type\": [\"poscon\", \"negcon\", \"negcon\"],\n",
    "    },\n",
    "    index=[0, 1, 2],\n",
    ")\n",
    "\n",
    "crispr_annotation_df = (\n",
    "    pd.read_csv(\n",
    "        \"../00.download-and-process-annotations/output/crispr_metadata.tsv.gz\", sep=\"\\t\"\n",
    "    )[[\"Metadata_JCP2022\", f\"{annotation_col}\", \"Metadata_NCBI_Gene_ID\"]]\n",
    "    .merge(crispr_controls_df, on=\"Metadata_JCP2022\", how=\"left\")\n",
    "    .fillna(value={\"Metadata_pert_type\": \"trt\"})\n",
    "    .dropna()\n",
    "    .assign(col=lambda x: list(x[f\"{annotation_col}\"].str.split(\"|\")))\n",
    "    .rename(columns={\"col\": f\"{multi_label_col}\"})\n",
    ")"
   ]
  }
 ],
 "metadata": {
  "kernelspec": {
   "display_name": "retrieval",
   "language": "python",
   "name": "python3"
  },
  "language_info": {
   "codemirror_mode": {
    "name": "ipython",
    "version": 3
   },
   "file_extension": ".py",
   "mimetype": "text/x-python",
   "name": "python",
   "nbconvert_exporter": "python",
   "pygments_lexer": "ipython3",
   "version": "3.12.2"
  }
 },
 "nbformat": 4,
 "nbformat_minor": 2
}
